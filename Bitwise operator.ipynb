{
 "cells": [
  {
   "cell_type": "markdown",
   "id": "3907f064",
   "metadata": {},
   "source": [
    "# Bitwise Operator"
   ]
  },
  {
   "cell_type": "markdown",
   "id": "6ff020c9",
   "metadata": {},
   "source": [
    "Complement (~)  \n",
    "\n",
    "And (&)  \n",
    "\n",
    "Or (|)  \n",
    "\n",
    "XOR (^)  \n",
    "\n",
    "Left Shift (<<)  \n",
    "\n",
    "Right Shift (>>)"
   ]
  },
  {
   "cell_type": "markdown",
   "id": "4afcc828",
   "metadata": {},
   "source": [
    "Compliment (~)"
   ]
  },
  {
   "cell_type": "code",
   "execution_count": 1,
   "id": "9534cb7b",
   "metadata": {},
   "outputs": [],
   "source": [
    "a = 2"
   ]
  },
  {
   "cell_type": "code",
   "execution_count": 2,
   "id": "af469fb1",
   "metadata": {},
   "outputs": [
    {
     "data": {
      "text/plain": [
       "-3"
      ]
     },
     "execution_count": 2,
     "metadata": {},
     "output_type": "execute_result"
    }
   ],
   "source": [
    "~a"
   ]
  },
  {
   "cell_type": "code",
   "execution_count": 4,
   "id": "8ba05b69",
   "metadata": {},
   "outputs": [],
   "source": [
    "a = 1"
   ]
  },
  {
   "cell_type": "code",
   "execution_count": 5,
   "id": "031c9bd0",
   "metadata": {},
   "outputs": [
    {
     "data": {
      "text/plain": [
       "-2"
      ]
     },
     "execution_count": 5,
     "metadata": {},
     "output_type": "execute_result"
    }
   ],
   "source": [
    "~a  # -(a + 1)"
   ]
  },
  {
   "cell_type": "markdown",
   "id": "0953e119",
   "metadata": {},
   "source": [
    "And &"
   ]
  },
  {
   "cell_type": "code",
   "execution_count": 3,
   "id": "31feed25",
   "metadata": {},
   "outputs": [],
   "source": [
    "a = 12\n",
    "b = 13"
   ]
  },
  {
   "cell_type": "code",
   "execution_count": 4,
   "id": "a3725fc6",
   "metadata": {},
   "outputs": [
    {
     "data": {
      "text/plain": [
       "12"
      ]
     },
     "execution_count": 4,
     "metadata": {},
     "output_type": "execute_result"
    }
   ],
   "source": [
    "a & b"
   ]
  },
  {
   "cell_type": "markdown",
   "id": "892961d6",
   "metadata": {},
   "source": [
    "OR ( | ) "
   ]
  },
  {
   "cell_type": "code",
   "execution_count": 5,
   "id": "b5a95443",
   "metadata": {},
   "outputs": [
    {
     "data": {
      "text/plain": [
       "13"
      ]
     },
     "execution_count": 5,
     "metadata": {},
     "output_type": "execute_result"
    }
   ],
   "source": [
    "12|13"
   ]
  },
  {
   "cell_type": "markdown",
   "id": "a46141b7",
   "metadata": {},
   "source": [
    "XOR ( ^ )"
   ]
  },
  {
   "cell_type": "code",
   "execution_count": 6,
   "id": "d3bfc355",
   "metadata": {},
   "outputs": [
    {
     "data": {
      "text/plain": [
       "1"
      ]
     },
     "execution_count": 6,
     "metadata": {},
     "output_type": "execute_result"
    }
   ],
   "source": [
    "a^b"
   ]
  },
  {
   "cell_type": "code",
   "execution_count": 17,
   "id": "cf1f0fa5",
   "metadata": {},
   "outputs": [],
   "source": [
    "a = 3\n",
    "b = 7"
   ]
  },
  {
   "cell_type": "code",
   "execution_count": 18,
   "id": "9022846e",
   "metadata": {},
   "outputs": [
    {
     "data": {
      "text/plain": [
       "4"
      ]
     },
     "execution_count": 18,
     "metadata": {},
     "output_type": "execute_result"
    }
   ],
   "source": [
    "a ^ b"
   ]
  },
  {
   "cell_type": "markdown",
   "id": "ba822a33",
   "metadata": {},
   "source": [
    "Left shift ( << )"
   ]
  },
  {
   "cell_type": "code",
   "execution_count": 8,
   "id": "f5ac57ff",
   "metadata": {},
   "outputs": [
    {
     "name": "stdout",
     "output_type": "stream",
     "text": [
      "12\n",
      "13\n"
     ]
    }
   ],
   "source": [
    "print(a)\n",
    "print(b)"
   ]
  },
  {
   "cell_type": "code",
   "execution_count": 9,
   "id": "8cbd03a5",
   "metadata": {},
   "outputs": [
    {
     "data": {
      "text/plain": [
       "98304"
      ]
     },
     "execution_count": 9,
     "metadata": {},
     "output_type": "execute_result"
    }
   ],
   "source": [
    "a<<b"
   ]
  },
  {
   "cell_type": "code",
   "execution_count": 11,
   "id": "1a2feb58",
   "metadata": {},
   "outputs": [
    {
     "data": {
      "text/plain": [
       "20"
      ]
     },
     "execution_count": 11,
     "metadata": {},
     "output_type": "execute_result"
    }
   ],
   "source": [
    "10<<1 # x << n = x * (2ⁿ)"
   ]
  },
  {
   "cell_type": "code",
   "execution_count": 12,
   "id": "3930e158",
   "metadata": {},
   "outputs": [
    {
     "data": {
      "text/plain": [
       "40"
      ]
     },
     "execution_count": 12,
     "metadata": {},
     "output_type": "execute_result"
    }
   ],
   "source": [
    "10<<2"
   ]
  },
  {
   "cell_type": "code",
   "execution_count": 13,
   "id": "9411853a",
   "metadata": {},
   "outputs": [
    {
     "data": {
      "text/plain": [
       "10"
      ]
     },
     "execution_count": 13,
     "metadata": {},
     "output_type": "execute_result"
    }
   ],
   "source": [
    "5 << 1"
   ]
  },
  {
   "cell_type": "code",
   "execution_count": 14,
   "id": "05435346",
   "metadata": {},
   "outputs": [
    {
     "data": {
      "text/plain": [
       "20"
      ]
     },
     "execution_count": 14,
     "metadata": {},
     "output_type": "execute_result"
    }
   ],
   "source": [
    "5 << 2"
   ]
  },
  {
   "cell_type": "markdown",
   "id": "5f7c8b67",
   "metadata": {},
   "source": [
    "Right shift ( >> )"
   ]
  },
  {
   "cell_type": "code",
   "execution_count": 19,
   "id": "7a821c84",
   "metadata": {},
   "outputs": [
    {
     "data": {
      "text/plain": [
       "2"
      ]
     },
     "execution_count": 19,
     "metadata": {},
     "output_type": "execute_result"
    }
   ],
   "source": [
    "5 >> 1"
   ]
  },
  {
   "cell_type": "code",
   "execution_count": 20,
   "id": "6bb5cc56",
   "metadata": {},
   "outputs": [
    {
     "data": {
      "text/plain": [
       "1"
      ]
     },
     "execution_count": 20,
     "metadata": {},
     "output_type": "execute_result"
    }
   ],
   "source": [
    "5 >>2 # x >> n = x // (2ⁿ)"
   ]
  }
 ],
 "metadata": {
  "kernelspec": {
   "display_name": "Python 3 (ipykernel)",
   "language": "python",
   "name": "python3"
  },
  "language_info": {
   "codemirror_mode": {
    "name": "ipython",
    "version": 3
   },
   "file_extension": ".py",
   "mimetype": "text/x-python",
   "name": "python",
   "nbconvert_exporter": "python",
   "pygments_lexer": "ipython3",
   "version": "3.11.4"
  }
 },
 "nbformat": 4,
 "nbformat_minor": 5
}
