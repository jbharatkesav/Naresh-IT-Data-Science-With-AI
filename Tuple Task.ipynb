{
 "cells": [
  {
   "cell_type": "markdown",
   "id": "b7b82e58",
   "metadata": {},
   "source": [
    "# Tuple Creation"
   ]
  },
  {
   "cell_type": "code",
   "execution_count": 1,
   "id": "826a5ea6",
   "metadata": {},
   "outputs": [],
   "source": [
    "t1 = ()"
   ]
  },
  {
   "cell_type": "code",
   "execution_count": 2,
   "id": "3493844c",
   "metadata": {},
   "outputs": [
    {
     "data": {
      "text/plain": [
       "()"
      ]
     },
     "execution_count": 2,
     "metadata": {},
     "output_type": "execute_result"
    }
   ],
   "source": [
    "t1"
   ]
  },
  {
   "cell_type": "code",
   "execution_count": 3,
   "id": "b73fe8f3",
   "metadata": {},
   "outputs": [],
   "source": [
    "t2 = (10,30,60)"
   ]
  },
  {
   "cell_type": "code",
   "execution_count": 4,
   "id": "dfc74f8f",
   "metadata": {},
   "outputs": [],
   "source": [
    "t3 = (10.77,30.66,60.89)"
   ]
  },
  {
   "cell_type": "code",
   "execution_count": 5,
   "id": "b704314c",
   "metadata": {},
   "outputs": [],
   "source": [
    "t4 = ('one','two','three')"
   ]
  },
  {
   "cell_type": "code",
   "execution_count": 7,
   "id": "e13bba62",
   "metadata": {},
   "outputs": [],
   "source": [
    "t5 = ('bharat', 25,(50,60),(45,79))"
   ]
  },
  {
   "cell_type": "code",
   "execution_count": 8,
   "id": "f146a4a2",
   "metadata": {},
   "outputs": [],
   "source": [
    "t6 = (100,'Kesav', 7.8)"
   ]
  },
  {
   "cell_type": "code",
   "execution_count": 10,
   "id": "79a30852",
   "metadata": {},
   "outputs": [],
   "source": [
    "t7 = ('Bharat',25,[50,100],[150,90], {'John','David'}, (99,22,23))"
   ]
  },
  {
   "cell_type": "code",
   "execution_count": 11,
   "id": "1982606f",
   "metadata": {},
   "outputs": [
    {
     "data": {
      "text/plain": [
       "6"
      ]
     },
     "execution_count": 11,
     "metadata": {},
     "output_type": "execute_result"
    }
   ],
   "source": [
    "len(t7)"
   ]
  },
  {
   "cell_type": "markdown",
   "id": "21221ea6",
   "metadata": {},
   "source": [
    "Indexing"
   ]
  },
  {
   "cell_type": "code",
   "execution_count": 12,
   "id": "044df80b",
   "metadata": {},
   "outputs": [
    {
     "data": {
      "text/plain": [
       "10"
      ]
     },
     "execution_count": 12,
     "metadata": {},
     "output_type": "execute_result"
    }
   ],
   "source": [
    "t2[0]"
   ]
  },
  {
   "cell_type": "code",
   "execution_count": 13,
   "id": "9af68e70",
   "metadata": {},
   "outputs": [
    {
     "data": {
      "text/plain": [
       "'n'"
      ]
     },
     "execution_count": 13,
     "metadata": {},
     "output_type": "execute_result"
    }
   ],
   "source": [
    "t4[0][1]"
   ]
  },
  {
   "cell_type": "code",
   "execution_count": 20,
   "id": "dac1bb58",
   "metadata": {},
   "outputs": [
    {
     "data": {
      "text/plain": [
       "'t'"
      ]
     },
     "execution_count": 20,
     "metadata": {},
     "output_type": "execute_result"
    }
   ],
   "source": [
    "t4[1][0]"
   ]
  },
  {
   "cell_type": "code",
   "execution_count": 21,
   "id": "8965acd8",
   "metadata": {},
   "outputs": [
    {
     "data": {
      "text/plain": [
       "'three'"
      ]
     },
     "execution_count": 21,
     "metadata": {},
     "output_type": "execute_result"
    }
   ],
   "source": [
    "t4[2]"
   ]
  },
  {
   "cell_type": "code",
   "execution_count": 22,
   "id": "8e5e9926",
   "metadata": {},
   "outputs": [
    {
     "data": {
      "text/plain": [
       "(45, 79)"
      ]
     },
     "execution_count": 22,
     "metadata": {},
     "output_type": "execute_result"
    }
   ],
   "source": [
    "t5[-1]"
   ]
  },
  {
   "cell_type": "code",
   "execution_count": 23,
   "id": "ab48fabd",
   "metadata": {},
   "outputs": [
    {
     "data": {
      "text/plain": [
       "('bharat', 25, (50, 60), (45, 79))"
      ]
     },
     "execution_count": 23,
     "metadata": {},
     "output_type": "execute_result"
    }
   ],
   "source": [
    "t5"
   ]
  },
  {
   "cell_type": "code",
   "execution_count": 24,
   "id": "e5bb156b",
   "metadata": {},
   "outputs": [
    {
     "data": {
      "text/plain": [
       "25"
      ]
     },
     "execution_count": 24,
     "metadata": {},
     "output_type": "execute_result"
    }
   ],
   "source": [
    "t5[-3]"
   ]
  },
  {
   "cell_type": "markdown",
   "id": "8bb46f1d",
   "metadata": {},
   "source": [
    "Slicing"
   ]
  },
  {
   "cell_type": "code",
   "execution_count": 25,
   "id": "ac1130eb",
   "metadata": {},
   "outputs": [],
   "source": [
    "y = (2,4,4,8,95,3) "
   ]
  },
  {
   "cell_type": "code",
   "execution_count": 26,
   "id": "8cfdb1e5",
   "metadata": {},
   "outputs": [
    {
     "data": {
      "text/plain": [
       "(2, 4, 4, 8, 95, 3)"
      ]
     },
     "execution_count": 26,
     "metadata": {},
     "output_type": "execute_result"
    }
   ],
   "source": [
    "y"
   ]
  },
  {
   "cell_type": "code",
   "execution_count": 27,
   "id": "e2015463",
   "metadata": {},
   "outputs": [
    {
     "data": {
      "text/plain": [
       "(2, 4, 4, 8, 95, 3)"
      ]
     },
     "execution_count": 27,
     "metadata": {},
     "output_type": "execute_result"
    }
   ],
   "source": [
    "y[0:]"
   ]
  },
  {
   "cell_type": "code",
   "execution_count": 29,
   "id": "1f9089c9",
   "metadata": {},
   "outputs": [
    {
     "data": {
      "text/plain": [
       "(4, 8)"
      ]
     },
     "execution_count": 29,
     "metadata": {},
     "output_type": "execute_result"
    }
   ],
   "source": [
    "y[2:4]"
   ]
  },
  {
   "cell_type": "code",
   "execution_count": 30,
   "id": "8d30d96f",
   "metadata": {},
   "outputs": [
    {
     "data": {
      "text/plain": [
       "6"
      ]
     },
     "execution_count": 30,
     "metadata": {},
     "output_type": "execute_result"
    }
   ],
   "source": [
    "len(y)"
   ]
  },
  {
   "cell_type": "code",
   "execution_count": 31,
   "id": "0447a5e9",
   "metadata": {},
   "outputs": [
    {
     "data": {
      "text/plain": [
       "(2, 4, 95)"
      ]
     },
     "execution_count": 31,
     "metadata": {},
     "output_type": "execute_result"
    }
   ],
   "source": [
    "y[0:7:2]"
   ]
  },
  {
   "cell_type": "code",
   "execution_count": 32,
   "id": "1d76305e",
   "metadata": {},
   "outputs": [
    {
     "data": {
      "text/plain": [
       "(2, 4, 4, 8)"
      ]
     },
     "execution_count": 32,
     "metadata": {},
     "output_type": "execute_result"
    }
   ],
   "source": [
    "y[:-2]"
   ]
  },
  {
   "cell_type": "code",
   "execution_count": 34,
   "id": "805dc06b",
   "metadata": {},
   "outputs": [
    {
     "data": {
      "text/plain": [
       "(2, 4, 4, 8, 95, 3)"
      ]
     },
     "execution_count": 34,
     "metadata": {},
     "output_type": "execute_result"
    }
   ],
   "source": [
    "y[-8:]"
   ]
  },
  {
   "cell_type": "code",
   "execution_count": 36,
   "id": "140512ab",
   "metadata": {},
   "outputs": [
    {
     "data": {
      "text/plain": [
       "(8, 95, 3)"
      ]
     },
     "execution_count": 36,
     "metadata": {},
     "output_type": "execute_result"
    }
   ],
   "source": [
    "y[-3:]"
   ]
  },
  {
   "cell_type": "code",
   "execution_count": 37,
   "id": "0da21664",
   "metadata": {},
   "outputs": [
    {
     "data": {
      "text/plain": [
       "3"
      ]
     },
     "execution_count": 37,
     "metadata": {},
     "output_type": "execute_result"
    }
   ],
   "source": [
    "y[-1]"
   ]
  },
  {
   "cell_type": "code",
   "execution_count": 38,
   "id": "afdbc0e6",
   "metadata": {},
   "outputs": [
    {
     "data": {
      "text/plain": [
       "('one', 'two', 'three', 'four', 'five', 'six')"
      ]
     },
     "execution_count": 38,
     "metadata": {},
     "output_type": "execute_result"
    }
   ],
   "source": [
    "y2 = ('one','two','three','four','five','six')\n",
    "y2"
   ]
  },
  {
   "cell_type": "code",
   "execution_count": 40,
   "id": "10520f0f",
   "metadata": {},
   "outputs": [
    {
     "data": {
      "text/plain": [
       "('one', 'two', 'three', 'four', 'five', 'six')"
      ]
     },
     "execution_count": 40,
     "metadata": {},
     "output_type": "execute_result"
    }
   ],
   "source": [
    "y2[:]"
   ]
  },
  {
   "cell_type": "code",
   "execution_count": 41,
   "id": "09565091",
   "metadata": {},
   "outputs": [
    {
     "data": {
      "text/plain": [
       "('six',)"
      ]
     },
     "execution_count": 41,
     "metadata": {},
     "output_type": "execute_result"
    }
   ],
   "source": [
    "y2[-1:]"
   ]
  },
  {
   "cell_type": "code",
   "execution_count": 42,
   "id": "771f0d3c",
   "metadata": {},
   "outputs": [
    {
     "data": {
      "text/plain": [
       "('two', 'three', 'four', 'five', 'six')"
      ]
     },
     "execution_count": 42,
     "metadata": {},
     "output_type": "execute_result"
    }
   ],
   "source": [
    "y2[-5:]"
   ]
  },
  {
   "cell_type": "markdown",
   "id": "4a21b81e",
   "metadata": {},
   "source": [
    "Remove or make changes"
   ]
  },
  {
   "cell_type": "code",
   "execution_count": 46,
   "id": "d2896ced",
   "metadata": {},
   "outputs": [],
   "source": [
    "y2 = ('one','two','three','four','five','six')"
   ]
  },
  {
   "cell_type": "code",
   "execution_count": 47,
   "id": "0966f7bd",
   "metadata": {},
   "outputs": [
    {
     "ename": "TypeError",
     "evalue": "'tuple' object doesn't support item deletion",
     "output_type": "error",
     "traceback": [
      "\u001b[1;31m---------------------------------------------------------------------------\u001b[0m",
      "\u001b[1;31mTypeError\u001b[0m                                 Traceback (most recent call last)",
      "Cell \u001b[1;32mIn[47], line 1\u001b[0m\n\u001b[1;32m----> 1\u001b[0m \u001b[38;5;28;01mdel\u001b[39;00m y2[\u001b[38;5;241m1\u001b[39m]\n",
      "\u001b[1;31mTypeError\u001b[0m: 'tuple' object doesn't support item deletion"
     ]
    }
   ],
   "source": [
    "del y2[1]"
   ]
  },
  {
   "cell_type": "code",
   "execution_count": 48,
   "id": "81fdadc7",
   "metadata": {},
   "outputs": [
    {
     "ename": "TypeError",
     "evalue": "'tuple' object does not support item assignment",
     "output_type": "error",
     "traceback": [
      "\u001b[1;31m---------------------------------------------------------------------------\u001b[0m",
      "\u001b[1;31mTypeError\u001b[0m                                 Traceback (most recent call last)",
      "Cell \u001b[1;32mIn[48], line 1\u001b[0m\n\u001b[1;32m----> 1\u001b[0m y2[\u001b[38;5;241m0\u001b[39m] \u001b[38;5;241m=\u001b[39m \u001b[38;5;241m20\u001b[39m\n",
      "\u001b[1;31mTypeError\u001b[0m: 'tuple' object does not support item assignment"
     ]
    }
   ],
   "source": [
    "y2[0] = 20 "
   ]
  },
  {
   "cell_type": "code",
   "execution_count": 49,
   "id": "575ef11b",
   "metadata": {},
   "outputs": [],
   "source": [
    "del y2 #only deleting of entire tuple is possible"
   ]
  },
  {
   "cell_type": "markdown",
   "id": "661f449c",
   "metadata": {},
   "source": [
    "Loop"
   ]
  },
  {
   "cell_type": "code",
   "execution_count": 50,
   "id": "52a50952",
   "metadata": {},
   "outputs": [],
   "source": [
    "y2 = ('one','two','three','four','five','six')"
   ]
  },
  {
   "cell_type": "code",
   "execution_count": 51,
   "id": "8ec15a0a",
   "metadata": {},
   "outputs": [
    {
     "name": "stdout",
     "output_type": "stream",
     "text": [
      "one\n",
      "two\n",
      "three\n",
      "four\n",
      "five\n",
      "six\n"
     ]
    }
   ],
   "source": [
    "for i in y2:\n",
    "    print(i)"
   ]
  },
  {
   "cell_type": "code",
   "execution_count": 53,
   "id": "5abefeed",
   "metadata": {},
   "outputs": [
    {
     "name": "stdout",
     "output_type": "stream",
     "text": [
      "(0, 'one')\n",
      "(1, 'two')\n",
      "(2, 'three')\n",
      "(3, 'four')\n",
      "(4, 'five')\n",
      "(5, 'six')\n"
     ]
    }
   ],
   "source": [
    "for i in enumerate (y2):\n",
    "    print(i)"
   ]
  },
  {
   "cell_type": "markdown",
   "id": "23f60a6f",
   "metadata": {},
   "source": [
    "tuple membership"
   ]
  },
  {
   "cell_type": "code",
   "execution_count": 54,
   "id": "316f0020",
   "metadata": {},
   "outputs": [
    {
     "data": {
      "text/plain": [
       "('one', 'two', 'three', 'four', 'five', 'six')"
      ]
     },
     "execution_count": 54,
     "metadata": {},
     "output_type": "execute_result"
    }
   ],
   "source": [
    "y2"
   ]
  },
  {
   "cell_type": "code",
   "execution_count": 56,
   "id": "33c26fce",
   "metadata": {},
   "outputs": [
    {
     "data": {
      "text/plain": [
       "True"
      ]
     },
     "execution_count": 56,
     "metadata": {},
     "output_type": "execute_result"
    }
   ],
   "source": [
    "'five' in y2"
   ]
  },
  {
   "cell_type": "code",
   "execution_count": 57,
   "id": "9bfd39b7",
   "metadata": {},
   "outputs": [
    {
     "data": {
      "text/plain": [
       "False"
      ]
     },
     "execution_count": 57,
     "metadata": {},
     "output_type": "execute_result"
    }
   ],
   "source": [
    "'nine' in y2"
   ]
  },
  {
   "cell_type": "code",
   "execution_count": 60,
   "id": "daae79a0",
   "metadata": {},
   "outputs": [
    {
     "name": "stdout",
     "output_type": "stream",
     "text": [
      "one is present in y2\n"
     ]
    }
   ],
   "source": [
    "if 'one' in y2:\n",
    "    print('one is present in y2')\n",
    "else:\n",
    "    print('one is not present in y2')"
   ]
  },
  {
   "cell_type": "code",
   "execution_count": 61,
   "id": "ecf13034",
   "metadata": {},
   "outputs": [
    {
     "name": "stdout",
     "output_type": "stream",
     "text": [
      "ten is not present in y2\n"
     ]
    }
   ],
   "source": [
    "if 'ten' in y2:\n",
    "    print('ten is present in y2')\n",
    "else:\n",
    "    print('ten is not present in y2')"
   ]
  },
  {
   "cell_type": "markdown",
   "id": "b9427d37",
   "metadata": {},
   "source": [
    "Indexing"
   ]
  },
  {
   "cell_type": "code",
   "execution_count": 64,
   "id": "d1468eda",
   "metadata": {},
   "outputs": [
    {
     "data": {
      "text/plain": [
       "0"
      ]
     },
     "execution_count": 64,
     "metadata": {},
     "output_type": "execute_result"
    }
   ],
   "source": [
    "y2.index('one')"
   ]
  },
  {
   "cell_type": "code",
   "execution_count": 65,
   "id": "8d539465",
   "metadata": {},
   "outputs": [
    {
     "data": {
      "text/plain": [
       "4"
      ]
     },
     "execution_count": 65,
     "metadata": {},
     "output_type": "execute_result"
    }
   ],
   "source": [
    "y2.index('five')"
   ]
  },
  {
   "cell_type": "markdown",
   "id": "98917830",
   "metadata": {},
   "source": [
    "Sorting"
   ]
  },
  {
   "cell_type": "code",
   "execution_count": 66,
   "id": "4a39bf7b",
   "metadata": {},
   "outputs": [],
   "source": [
    "y3 = (2,4,45,6,6,33,4,4,6,7)"
   ]
  },
  {
   "cell_type": "code",
   "execution_count": 68,
   "id": "b0ba5e39",
   "metadata": {},
   "outputs": [
    {
     "data": {
      "text/plain": [
       "[2, 4, 4, 4, 6, 6, 6, 7, 33, 45]"
      ]
     },
     "execution_count": 68,
     "metadata": {},
     "output_type": "execute_result"
    }
   ],
   "source": [
    "sorted(y3)"
   ]
  },
  {
   "cell_type": "code",
   "execution_count": 69,
   "id": "fff418ac",
   "metadata": {},
   "outputs": [
    {
     "data": {
      "text/plain": [
       "[45, 33, 7, 6, 6, 6, 4, 4, 4, 2]"
      ]
     },
     "execution_count": 69,
     "metadata": {},
     "output_type": "execute_result"
    }
   ],
   "source": [
    "sorted(y3, reverse = True)"
   ]
  },
  {
   "cell_type": "code",
   "execution_count": 71,
   "id": "737487a1",
   "metadata": {},
   "outputs": [
    {
     "data": {
      "text/plain": [
       "[2, 4, 4, 4, 6, 6, 6, 7, 33, 45]"
      ]
     },
     "execution_count": 71,
     "metadata": {},
     "output_type": "execute_result"
    }
   ],
   "source": [
    "sorted(y3, reverse = False)"
   ]
  },
  {
   "cell_type": "code",
   "execution_count": 77,
   "id": "cc255d76",
   "metadata": {},
   "outputs": [
    {
     "name": "stdout",
     "output_type": "stream",
     "text": [
      "[1, 4, 2, 3]\n"
     ]
    }
   ],
   "source": [
    "x = [1, 2, 3]   \n",
    "x.insert(1, 4)  \n",
    "print(x)"
   ]
  },
  {
   "cell_type": "code",
   "execution_count": null,
   "id": "09857bd8",
   "metadata": {},
   "outputs": [],
   "source": []
  }
 ],
 "metadata": {
  "kernelspec": {
   "display_name": "Python 3 (ipykernel)",
   "language": "python",
   "name": "python3"
  },
  "language_info": {
   "codemirror_mode": {
    "name": "ipython",
    "version": 3
   },
   "file_extension": ".py",
   "mimetype": "text/x-python",
   "name": "python",
   "nbconvert_exporter": "python",
   "pygments_lexer": "ipython3",
   "version": "3.11.4"
  }
 },
 "nbformat": 4,
 "nbformat_minor": 5
}
