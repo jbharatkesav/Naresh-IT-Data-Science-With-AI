{
 "cells": [
  {
   "cell_type": "code",
   "execution_count": 16,
   "id": "85fe6c3b",
   "metadata": {},
   "outputs": [],
   "source": [
    "first_name = 'Bharat kesav'\n",
    "last_name = 'Jampani'\n",
    "country = 'India'\n",
    "state = 'Andhra Pradesh'\n",
    "city = 'Ongole'\n",
    "age = '21'\n",
    "is_married = 'No'\n",
    "skills = ['Machine learning', 'Python','SQL Server','Power BI']\n",
    "personal_info = ''' Aspiring Data Analyst skilled in Python, Machine Learning, SQL, and Business Intelligence tools with a strong foundation in data analytics and visualization. Passionate about leveraging data-driven insights to optimize business decisions and improve customer experiences. Seeking an opportunity to apply analytical skills in solving real-world problems.'''"
   ]
  },
  {
   "cell_type": "code",
   "execution_count": 17,
   "id": "b942073c",
   "metadata": {},
   "outputs": [
    {
     "name": "stdout",
     "output_type": "stream",
     "text": [
      "first_name: Bharat kesav\n"
     ]
    }
   ],
   "source": [
    "print('first_name:' ,first_name)"
   ]
  },
  {
   "cell_type": "code",
   "execution_count": 18,
   "id": "3a159b53",
   "metadata": {},
   "outputs": [
    {
     "name": "stdout",
     "output_type": "stream",
     "text": [
      "Last Name:  Jampani\n"
     ]
    }
   ],
   "source": [
    "print('Last Name: ',last_name) "
   ]
  },
  {
   "cell_type": "code",
   "execution_count": 19,
   "id": "dfc60079",
   "metadata": {},
   "outputs": [
    {
     "name": "stdout",
     "output_type": "stream",
     "text": [
      "First Name Length:  12\n"
     ]
    }
   ],
   "source": [
    "print('First Name Length: ',len(first_name))"
   ]
  },
  {
   "cell_type": "code",
   "execution_count": 20,
   "id": "ccd4068f",
   "metadata": {},
   "outputs": [
    {
     "name": "stdout",
     "output_type": "stream",
     "text": [
      "Last Name Length:  7\n"
     ]
    }
   ],
   "source": [
    "print('Last Name Length: ',len(last_name))"
   ]
  },
  {
   "cell_type": "code",
   "execution_count": 21,
   "id": "7eb7aba1",
   "metadata": {},
   "outputs": [
    {
     "name": "stdout",
     "output_type": "stream",
     "text": [
      "Country:  India\n"
     ]
    }
   ],
   "source": [
    "print('Country: ', country)"
   ]
  },
  {
   "cell_type": "code",
   "execution_count": 22,
   "id": "d74066c5",
   "metadata": {},
   "outputs": [
    {
     "name": "stdout",
     "output_type": "stream",
     "text": [
      "State:  Andhra Pradesh\n"
     ]
    }
   ],
   "source": [
    "print('State: ',state)"
   ]
  },
  {
   "cell_type": "code",
   "execution_count": 23,
   "id": "6bee220f",
   "metadata": {},
   "outputs": [
    {
     "name": "stdout",
     "output_type": "stream",
     "text": [
      "City:  Ongole\n"
     ]
    }
   ],
   "source": [
    "print('City: ',city)"
   ]
  },
  {
   "cell_type": "code",
   "execution_count": 24,
   "id": "a96abf0e",
   "metadata": {},
   "outputs": [
    {
     "name": "stdout",
     "output_type": "stream",
     "text": [
      "Age:  21\n"
     ]
    }
   ],
   "source": [
    "print('Age: ',age)"
   ]
  },
  {
   "cell_type": "code",
   "execution_count": 25,
   "id": "89da17cb",
   "metadata": {},
   "outputs": [
    {
     "name": "stdout",
     "output_type": "stream",
     "text": [
      "Marriage Status:  No\n"
     ]
    }
   ],
   "source": [
    "print('Marriage Status: ',is_married)"
   ]
  },
  {
   "cell_type": "code",
   "execution_count": 26,
   "id": "4775d2eb",
   "metadata": {},
   "outputs": [
    {
     "name": "stdout",
     "output_type": "stream",
     "text": [
      "Skills: ['Machine learning', 'Python', 'SQL Server', 'Power BI']\n"
     ]
    }
   ],
   "source": [
    "print('Skills:',skills)"
   ]
  },
  {
   "cell_type": "code",
   "execution_count": 27,
   "id": "53073982",
   "metadata": {},
   "outputs": [
    {
     "name": "stdout",
     "output_type": "stream",
     "text": [
      "Personal Information:  Aspiring Data Analyst skilled in Python, Machine Learning, SQL, and Business Intelligence tools with a strong foundation in data analytics and visualization. Passionate about leveraging data-driven insights to optimize business decisions and improve customer experiences. Seeking an opportunity to apply analytical skills in solving real-world problems.\n"
     ]
    }
   ],
   "source": [
    "print('Personal Information:',personal_info)"
   ]
  },
  {
   "cell_type": "code",
   "execution_count": 28,
   "id": "f21135bf",
   "metadata": {},
   "outputs": [
    {
     "name": "stdout",
     "output_type": "stream",
     "text": [
      "My address is India Andhra Pradesh Ongole\n"
     ]
    }
   ],
   "source": [
    "print('My address is',country,state,city)"
   ]
  },
  {
   "cell_type": "code",
   "execution_count": 29,
   "id": "5c56c7fd",
   "metadata": {},
   "outputs": [
    {
     "name": "stdout",
     "output_type": "stream",
     "text": [
      "Bharat kesavJampani\n"
     ]
    }
   ],
   "source": [
    "print(first_name + last_name)"
   ]
  },
  {
   "cell_type": "code",
   "execution_count": 30,
   "id": "ca120849",
   "metadata": {},
   "outputs": [
    {
     "name": "stdout",
     "output_type": "stream",
     "text": [
      "My name is Bharat kesav Jampani and i lives in Ongole\n"
     ]
    }
   ],
   "source": [
    "print(\"My name is {} and i lives in {}\".format(first_name +' ' + last_name,city))"
   ]
  },
  {
   "cell_type": "code",
   "execution_count": 37,
   "id": "be4f7bc9",
   "metadata": {},
   "outputs": [],
   "source": [
    "first_name, last_name, country, age, is_married = 'Bharat', 'Jampani', 'INDIA', 21, 'No'"
   ]
  },
  {
   "cell_type": "code",
   "execution_count": 38,
   "id": "4fd6a9d5",
   "metadata": {},
   "outputs": [
    {
     "name": "stdout",
     "output_type": "stream",
     "text": [
      "Bharat Jampani INDIA 21 No\n"
     ]
    }
   ],
   "source": [
    "print(first_name, last_name, country, age, is_married)"
   ]
  }
 ],
 "metadata": {
  "kernelspec": {
   "display_name": "Python 3 (ipykernel)",
   "language": "python",
   "name": "python3"
  },
  "language_info": {
   "codemirror_mode": {
    "name": "ipython",
    "version": 3
   },
   "file_extension": ".py",
   "mimetype": "text/x-python",
   "name": "python",
   "nbconvert_exporter": "python",
   "pygments_lexer": "ipython3",
   "version": "3.11.4"
  }
 },
 "nbformat": 4,
 "nbformat_minor": 5
}
