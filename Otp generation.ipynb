{
 "cells": [
  {
   "cell_type": "code",
   "execution_count": 14,
   "id": "d3344f86",
   "metadata": {},
   "outputs": [],
   "source": [
    "import random"
   ]
  },
  {
   "cell_type": "code",
   "execution_count": 15,
   "id": "1955dd4e",
   "metadata": {},
   "outputs": [
    {
     "name": "stdout",
     "output_type": "stream",
     "text": [
      "your otp is : 0300\n"
     ]
    }
   ],
   "source": [
    "def generate_otp(length = 4):\n",
    "    digits = '012345'\n",
    "    otp = ''.join(random.choice(digits)for _ in range(length))\n",
    "    return otp\n",
    "otp_length = 4\n",
    "otp = generate_otp(4)\n",
    "print(f\"your otp is : {otp}\")"
   ]
  },
  {
   "cell_type": "code",
   "execution_count": 16,
   "id": "994763db",
   "metadata": {},
   "outputs": [
    {
     "name": "stdout",
     "output_type": "stream",
     "text": [
      "your otp is : 053533\n"
     ]
    }
   ],
   "source": [
    "import random\n",
    "def generate_otp(length = 6):\n",
    "    digits = '012345'\n",
    "    otp = ''.join(random.choice(digits)for _ in range(length))\n",
    "    return otp\n",
    "otp_length = 6\n",
    "otp = generate_otp(6)\n",
    "print(f\"your otp is : {otp}\")"
   ]
  },
  {
   "cell_type": "code",
   "execution_count": 17,
   "id": "610d6437",
   "metadata": {},
   "outputs": [
    {
     "name": "stdout",
     "output_type": "stream",
     "text": [
      "your otp is : 178660766\n"
     ]
    }
   ],
   "source": [
    "import random\n",
    "def generate_otp(length = 9):\n",
    "    digits = '012345678'\n",
    "    otp = ''.join(random.choice(digits)for _ in range(length))\n",
    "    return otp\n",
    "otp_length = 9\n",
    "otp = generate_otp(9)\n",
    "print(f\"your otp is : {otp}\")"
   ]
  }
 ],
 "metadata": {
  "kernelspec": {
   "display_name": "Python 3 (ipykernel)",
   "language": "python",
   "name": "python3"
  },
  "language_info": {
   "codemirror_mode": {
    "name": "ipython",
    "version": 3
   },
   "file_extension": ".py",
   "mimetype": "text/x-python",
   "name": "python",
   "nbconvert_exporter": "python",
   "pygments_lexer": "ipython3",
   "version": "3.11.4"
  }
 },
 "nbformat": 4,
 "nbformat_minor": 5
}
