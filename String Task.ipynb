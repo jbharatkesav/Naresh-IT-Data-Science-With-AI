{
 "cells": [
  {
   "cell_type": "markdown",
   "id": "f24413b5",
   "metadata": {},
   "source": [
    "Single Line comment"
   ]
  },
  {
   "cell_type": "code",
   "execution_count": 1,
   "id": "6509a174",
   "metadata": {},
   "outputs": [
    {
     "name": "stdout",
     "output_type": "stream",
     "text": [
      "P\n"
     ]
    }
   ],
   "source": [
    "letter = 'P'                \n",
    "print(letter) "
   ]
  },
  {
   "cell_type": "code",
   "execution_count": 2,
   "id": "de31194f",
   "metadata": {},
   "outputs": [
    {
     "name": "stdout",
     "output_type": "stream",
     "text": [
      "1\n"
     ]
    }
   ],
   "source": [
    "print(len(letter))"
   ]
  },
  {
   "cell_type": "code",
   "execution_count": 3,
   "id": "b3628266",
   "metadata": {},
   "outputs": [
    {
     "name": "stdout",
     "output_type": "stream",
     "text": [
      "Hello, World!\n",
      "13\n"
     ]
    }
   ],
   "source": [
    "greeting = 'Hello, World!' \n",
    "print(greeting)  \n",
    "print(len(greeting))"
   ]
  },
  {
   "cell_type": "code",
   "execution_count": 4,
   "id": "fb5a7bea",
   "metadata": {},
   "outputs": [
    {
     "name": "stdout",
     "output_type": "stream",
     "text": [
      "I hope you are enjoying python challenge\n"
     ]
    }
   ],
   "source": [
    "sentence = \"I hope you are enjoying python challenge\"\n",
    "print(sentence)"
   ]
  },
  {
   "cell_type": "markdown",
   "id": "f8b5c023",
   "metadata": {},
   "source": [
    "Multiline String"
   ]
  },
  {
   "cell_type": "code",
   "execution_count": 5,
   "id": "f24a9425",
   "metadata": {},
   "outputs": [
    {
     "name": "stdout",
     "output_type": "stream",
     "text": [
      "I am a student of NIT and enjoying coding.\n",
      "I would like to practice coding every day.\n",
      "That is why I created 30 days of python.\n"
     ]
    }
   ],
   "source": [
    "multiline_string = '''I am a student of NIT and enjoying coding.\n",
    "I would like to practice coding every day.\n",
    "That is why I created 30 days of python.'''\n",
    "print(multiline_string)"
   ]
  },
  {
   "cell_type": "markdown",
   "id": "479bc786",
   "metadata": {},
   "source": [
    "String Concatenation"
   ]
  },
  {
   "cell_type": "code",
   "execution_count": 7,
   "id": "34c383f7",
   "metadata": {},
   "outputs": [
    {
     "name": "stdout",
     "output_type": "stream",
     "text": [
      "Bharat kesav Jampani\n"
     ]
    }
   ],
   "source": [
    "first_name ='Bharat kesav'\n",
    "last_name = 'Jampani'\n",
    "space = ' '\n",
    "full_name = first_name + space + last_name\n",
    "print(full_name)"
   ]
  },
  {
   "cell_type": "code",
   "execution_count": 8,
   "id": "3463aa93",
   "metadata": {},
   "outputs": [
    {
     "name": "stdout",
     "output_type": "stream",
     "text": [
      "12\n",
      "7\n"
     ]
    }
   ],
   "source": [
    "print(len(first_name))\n",
    "print(len(last_name))"
   ]
  },
  {
   "cell_type": "code",
   "execution_count": 9,
   "id": "1ed947a4",
   "metadata": {},
   "outputs": [
    {
     "name": "stdout",
     "output_type": "stream",
     "text": [
      "True\n"
     ]
    }
   ],
   "source": [
    "print(len(first_name) > len(last_name))"
   ]
  },
  {
   "cell_type": "code",
   "execution_count": 10,
   "id": "864df20c",
   "metadata": {},
   "outputs": [
    {
     "name": "stdout",
     "output_type": "stream",
     "text": [
      "False\n"
     ]
    }
   ],
   "source": [
    "print(len(first_name) > len(full_name))"
   ]
  },
  {
   "cell_type": "markdown",
   "id": "cf5aa3db",
   "metadata": {},
   "source": [
    "Unpacking Characters"
   ]
  },
  {
   "cell_type": "code",
   "execution_count": 11,
   "id": "c1deebc1",
   "metadata": {},
   "outputs": [],
   "source": [
    "language = 'python'\n",
    "a,b,c,d,e,f = language"
   ]
  },
  {
   "cell_type": "code",
   "execution_count": 12,
   "id": "247576eb",
   "metadata": {},
   "outputs": [
    {
     "name": "stdout",
     "output_type": "stream",
     "text": [
      "p\n"
     ]
    }
   ],
   "source": [
    "print(a)"
   ]
  },
  {
   "cell_type": "code",
   "execution_count": 13,
   "id": "e14655f0",
   "metadata": {},
   "outputs": [
    {
     "name": "stdout",
     "output_type": "stream",
     "text": [
      "y\n"
     ]
    }
   ],
   "source": [
    "print(b)"
   ]
  },
  {
   "cell_type": "code",
   "execution_count": 14,
   "id": "22044ece",
   "metadata": {},
   "outputs": [
    {
     "name": "stdout",
     "output_type": "stream",
     "text": [
      "o\n"
     ]
    }
   ],
   "source": [
    "print(e)"
   ]
  },
  {
   "cell_type": "markdown",
   "id": "f4b66779",
   "metadata": {},
   "source": [
    "Accessing characters in strings by index"
   ]
  },
  {
   "cell_type": "code",
   "execution_count": 15,
   "id": "1a7e8872",
   "metadata": {},
   "outputs": [
    {
     "name": "stdout",
     "output_type": "stream",
     "text": [
      "P\n"
     ]
    }
   ],
   "source": [
    "language = 'Python'\n",
    "first_letter = language[0]\n",
    "print(first_letter)"
   ]
  },
  {
   "cell_type": "code",
   "execution_count": 16,
   "id": "0004846a",
   "metadata": {},
   "outputs": [
    {
     "name": "stdout",
     "output_type": "stream",
     "text": [
      "n\n"
     ]
    }
   ],
   "source": [
    "language = 'Python'\n",
    "first_letter = language[5]\n",
    "print(first_letter)"
   ]
  },
  {
   "cell_type": "code",
   "execution_count": 17,
   "id": "6bf2a8b1",
   "metadata": {},
   "outputs": [
    {
     "name": "stdout",
     "output_type": "stream",
     "text": [
      "o\n"
     ]
    }
   ],
   "source": [
    "language = 'Python'\n",
    "first_letter = language[-2]\n",
    "print(first_letter)"
   ]
  },
  {
   "cell_type": "code",
   "execution_count": 18,
   "id": "11ac9754",
   "metadata": {},
   "outputs": [
    {
     "name": "stdout",
     "output_type": "stream",
     "text": [
      "n\n"
     ]
    }
   ],
   "source": [
    "last_index = len(language) - 1\n",
    "last_letter = language[last_index]\n",
    "print(last_letter)"
   ]
  },
  {
   "cell_type": "code",
   "execution_count": 19,
   "id": "22f1add9",
   "metadata": {},
   "outputs": [
    {
     "name": "stdout",
     "output_type": "stream",
     "text": [
      "5\n"
     ]
    }
   ],
   "source": [
    "last_index = len(language) - 1\n",
    "print(last_index)"
   ]
  },
  {
   "cell_type": "markdown",
   "id": "71d02830",
   "metadata": {},
   "source": [
    "Slicing"
   ]
  },
  {
   "cell_type": "code",
   "execution_count": 20,
   "id": "16caf292",
   "metadata": {},
   "outputs": [],
   "source": [
    "language = 'Python'\n",
    "first_three = language[0:3]"
   ]
  },
  {
   "cell_type": "code",
   "execution_count": 21,
   "id": "6682a403",
   "metadata": {},
   "outputs": [
    {
     "data": {
      "text/plain": [
       "'Pyt'"
      ]
     },
     "execution_count": 21,
     "metadata": {},
     "output_type": "execute_result"
    }
   ],
   "source": [
    "first_three"
   ]
  },
  {
   "cell_type": "code",
   "execution_count": 22,
   "id": "0c23faf8",
   "metadata": {},
   "outputs": [
    {
     "name": "stdout",
     "output_type": "stream",
     "text": [
      "hon\n"
     ]
    }
   ],
   "source": [
    "last_three = language[3:6]\n",
    "print(last_three)"
   ]
  },
  {
   "cell_type": "code",
   "execution_count": 23,
   "id": "0ab7dcfb",
   "metadata": {},
   "outputs": [
    {
     "name": "stdout",
     "output_type": "stream",
     "text": [
      "hon\n"
     ]
    }
   ],
   "source": [
    "last_three = language[-3:]\n",
    "print(last_three)"
   ]
  },
  {
   "cell_type": "code",
   "execution_count": 24,
   "id": "56a94f85",
   "metadata": {},
   "outputs": [
    {
     "name": "stdout",
     "output_type": "stream",
     "text": [
      "hon\n"
     ]
    }
   ],
   "source": [
    "last_three = language[3:]\n",
    "print(last_three)"
   ]
  },
  {
   "cell_type": "markdown",
   "id": "926cdb8c",
   "metadata": {},
   "source": [
    "Skipping"
   ]
  },
  {
   "cell_type": "code",
   "execution_count": 25,
   "id": "6e6a20ac",
   "metadata": {},
   "outputs": [
    {
     "name": "stdout",
     "output_type": "stream",
     "text": [
      "Python\n"
     ]
    }
   ],
   "source": [
    "language = 'Python'\n",
    "print(language)"
   ]
  },
  {
   "cell_type": "code",
   "execution_count": 27,
   "id": "61d194e6",
   "metadata": {},
   "outputs": [
    {
     "data": {
      "text/plain": [
       "'Ph'"
      ]
     },
     "execution_count": 27,
     "metadata": {},
     "output_type": "execute_result"
    }
   ],
   "source": [
    "language[0:6:3]"
   ]
  },
  {
   "cell_type": "markdown",
   "id": "4bcb67f7",
   "metadata": {},
   "source": [
    "Formatting"
   ]
  },
  {
   "cell_type": "code",
   "execution_count": 28,
   "id": "56a37c19",
   "metadata": {},
   "outputs": [],
   "source": [
    "first_name = 'Bharat kesav'\n",
    "last_name = 'Jampani'\n",
    "country = 'India'"
   ]
  },
  {
   "cell_type": "code",
   "execution_count": 30,
   "id": "099d19b2",
   "metadata": {},
   "outputs": [
    {
     "name": "stdout",
     "output_type": "stream",
     "text": [
      "my name is Bharat kesav Jampani and lives in India\n"
     ]
    }
   ],
   "source": [
    "print(\"my name is {} and lives in {}\".format(first_name+' '+last_name,country))"
   ]
  }
 ],
 "metadata": {
  "kernelspec": {
   "display_name": "Python 3 (ipykernel)",
   "language": "python",
   "name": "python3"
  },
  "language_info": {
   "codemirror_mode": {
    "name": "ipython",
    "version": 3
   },
   "file_extension": ".py",
   "mimetype": "text/x-python",
   "name": "python",
   "nbconvert_exporter": "python",
   "pygments_lexer": "ipython3",
   "version": "3.11.4"
  }
 },
 "nbformat": 4,
 "nbformat_minor": 5
}
