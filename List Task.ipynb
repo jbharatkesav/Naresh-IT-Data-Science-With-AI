{
 "cells": [
  {
   "cell_type": "code",
   "execution_count": 26,
   "id": "a64f7d0a",
   "metadata": {},
   "outputs": [
    {
     "data": {
      "text/plain": [
       "'abc def ghi '"
      ]
     },
     "execution_count": 26,
     "metadata": {},
     "output_type": "execute_result"
    }
   ],
   "source": [
    "txt = \" abc def ghi \" \n",
    " \n",
    "txt.lstrip()"
   ]
  },
  {
   "cell_type": "code",
   "execution_count": 27,
   "id": "9d83d8d3",
   "metadata": {},
   "outputs": [],
   "source": [
    "mystr = \"My favorite serires is \\\"game of thrones\\\"\""
   ]
  },
  {
   "cell_type": "code",
   "execution_count": 28,
   "id": "ba1283fe",
   "metadata": {},
   "outputs": [
    {
     "name": "stdout",
     "output_type": "stream",
     "text": [
      "My favorite serires is \"game of thrones\"\n"
     ]
    }
   ],
   "source": [
    "print(mystr)"
   ]
  },
  {
   "cell_type": "code",
   "execution_count": 29,
   "id": "4788a86b",
   "metadata": {},
   "outputs": [],
   "source": [
    "list1 = []"
   ]
  },
  {
   "cell_type": "code",
   "execution_count": 30,
   "id": "aa3802b1",
   "metadata": {},
   "outputs": [
    {
     "name": "stdout",
     "output_type": "stream",
     "text": [
      "<class 'list'>\n"
     ]
    }
   ],
   "source": [
    "print(type(list1))"
   ]
  },
  {
   "cell_type": "code",
   "execution_count": 31,
   "id": "b87a5eec",
   "metadata": {},
   "outputs": [],
   "source": [
    "list2 = [10,30,60]"
   ]
  },
  {
   "cell_type": "code",
   "execution_count": 32,
   "id": "7310d14d",
   "metadata": {},
   "outputs": [],
   "source": [
    "list3 = [10.77, 30.66,60.89]"
   ]
  },
  {
   "cell_type": "code",
   "execution_count": 33,
   "id": "7a4f3e02",
   "metadata": {},
   "outputs": [],
   "source": [
    "list4 = ['one', 'two', \"three\"]"
   ]
  },
  {
   "cell_type": "code",
   "execution_count": 34,
   "id": "85d43aaf",
   "metadata": {},
   "outputs": [],
   "source": [
    "list5 = ['Asif', 25 ,[50, 100],[150,90] ]"
   ]
  },
  {
   "cell_type": "code",
   "execution_count": 35,
   "id": "5c0b6178",
   "metadata": {},
   "outputs": [
    {
     "name": "stdout",
     "output_type": "stream",
     "text": [
      "['Asif', 25, [50, 100], [150, 90]]\n"
     ]
    }
   ],
   "source": [
    "print(list5)"
   ]
  },
  {
   "cell_type": "code",
   "execution_count": 36,
   "id": "694208ca",
   "metadata": {},
   "outputs": [],
   "source": [
    "list6 = [100, 'Asif', 17.765]"
   ]
  },
  {
   "cell_type": "code",
   "execution_count": 37,
   "id": "c02b0cf3",
   "metadata": {},
   "outputs": [],
   "source": [
    "list7 = ['Asif', 25, [50, 100],[150,90], {'john' , 'David'}]"
   ]
  },
  {
   "cell_type": "code",
   "execution_count": 38,
   "id": "2d67ec47",
   "metadata": {},
   "outputs": [
    {
     "data": {
      "text/plain": [
       "3"
      ]
     },
     "execution_count": 38,
     "metadata": {},
     "output_type": "execute_result"
    }
   ],
   "source": [
    "len(list6)"
   ]
  },
  {
   "cell_type": "code",
   "execution_count": 15,
   "id": "28247102",
   "metadata": {},
   "outputs": [
    {
     "data": {
      "text/plain": [
       "5"
      ]
     },
     "execution_count": 15,
     "metadata": {},
     "output_type": "execute_result"
    }
   ],
   "source": [
    "len(list7)"
   ]
  },
  {
   "cell_type": "code",
   "execution_count": 39,
   "id": "a2df9d29",
   "metadata": {},
   "outputs": [
    {
     "data": {
      "text/plain": [
       "10"
      ]
     },
     "execution_count": 39,
     "metadata": {},
     "output_type": "execute_result"
    }
   ],
   "source": [
    "list2[0]"
   ]
  },
  {
   "cell_type": "code",
   "execution_count": 40,
   "id": "e16673cf",
   "metadata": {},
   "outputs": [
    {
     "data": {
      "text/plain": [
       "'one'"
      ]
     },
     "execution_count": 40,
     "metadata": {},
     "output_type": "execute_result"
    }
   ],
   "source": [
    "list4[0]"
   ]
  },
  {
   "cell_type": "code",
   "execution_count": 41,
   "id": "0f9423e8",
   "metadata": {},
   "outputs": [
    {
     "data": {
      "text/plain": [
       "'o'"
      ]
     },
     "execution_count": 41,
     "metadata": {},
     "output_type": "execute_result"
    }
   ],
   "source": [
    "list4[0][0] #Nested indexing"
   ]
  },
  {
   "cell_type": "code",
   "execution_count": 42,
   "id": "f782e167",
   "metadata": {},
   "outputs": [
    {
     "data": {
      "text/plain": [
       "'three'"
      ]
     },
     "execution_count": 42,
     "metadata": {},
     "output_type": "execute_result"
    }
   ],
   "source": [
    "list4[-1]"
   ]
  },
  {
   "cell_type": "code",
   "execution_count": 43,
   "id": "5b176b8e",
   "metadata": {},
   "outputs": [
    {
     "data": {
      "text/plain": [
       "[150, 90]"
      ]
     },
     "execution_count": 43,
     "metadata": {},
     "output_type": "execute_result"
    }
   ],
   "source": [
    "list5[-1]"
   ]
  },
  {
   "cell_type": "code",
   "execution_count": 44,
   "id": "96646655",
   "metadata": {},
   "outputs": [
    {
     "data": {
      "text/plain": [
       "[50, 100]"
      ]
     },
     "execution_count": 44,
     "metadata": {},
     "output_type": "execute_result"
    }
   ],
   "source": [
    "list5[-2]"
   ]
  },
  {
   "cell_type": "code",
   "execution_count": 45,
   "id": "b23797e8",
   "metadata": {},
   "outputs": [
    {
     "data": {
      "text/plain": [
       "30.66"
      ]
     },
     "execution_count": 45,
     "metadata": {},
     "output_type": "execute_result"
    }
   ],
   "source": [
    "list3[1]"
   ]
  },
  {
   "cell_type": "code",
   "execution_count": 46,
   "id": "b0b0bb1d",
   "metadata": {},
   "outputs": [],
   "source": [
    "mylist = ['one' , 'two' , 'three' , 'four' , 'five' , 'six' , 'seven' , 'eight']"
   ]
  },
  {
   "cell_type": "code",
   "execution_count": 47,
   "id": "692638c4",
   "metadata": {},
   "outputs": [
    {
     "data": {
      "text/plain": [
       "['one', 'two', 'three']"
      ]
     },
     "execution_count": 47,
     "metadata": {},
     "output_type": "execute_result"
    }
   ],
   "source": [
    "mylist[0:3]"
   ]
  },
  {
   "cell_type": "code",
   "execution_count": 48,
   "id": "f762a1d8",
   "metadata": {},
   "outputs": [
    {
     "data": {
      "text/plain": [
       "['three', 'four', 'five']"
      ]
     },
     "execution_count": 48,
     "metadata": {},
     "output_type": "execute_result"
    }
   ],
   "source": [
    "mylist[2:5]"
   ]
  },
  {
   "cell_type": "code",
   "execution_count": 49,
   "id": "76029135",
   "metadata": {},
   "outputs": [
    {
     "data": {
      "text/plain": [
       "['one', 'two']"
      ]
     },
     "execution_count": 49,
     "metadata": {},
     "output_type": "execute_result"
    }
   ],
   "source": [
    "mylist[:2]"
   ]
  },
  {
   "cell_type": "code",
   "execution_count": 50,
   "id": "81858553",
   "metadata": {},
   "outputs": [
    {
     "data": {
      "text/plain": [
       "['six', 'seven', 'eight']"
      ]
     },
     "execution_count": 50,
     "metadata": {},
     "output_type": "execute_result"
    }
   ],
   "source": [
    "mylist[-3:]"
   ]
  },
  {
   "cell_type": "code",
   "execution_count": 51,
   "id": "3e58fc6a",
   "metadata": {},
   "outputs": [
    {
     "data": {
      "text/plain": [
       "['seven', 'eight']"
      ]
     },
     "execution_count": 51,
     "metadata": {},
     "output_type": "execute_result"
    }
   ],
   "source": [
    "mylist[-2:]"
   ]
  },
  {
   "cell_type": "code",
   "execution_count": 52,
   "id": "4aabf1ff",
   "metadata": {},
   "outputs": [
    {
     "data": {
      "text/plain": [
       "'eight'"
      ]
     },
     "execution_count": 52,
     "metadata": {},
     "output_type": "execute_result"
    }
   ],
   "source": [
    "mylist[-1]"
   ]
  },
  {
   "cell_type": "code",
   "execution_count": 53,
   "id": "c6e52152",
   "metadata": {},
   "outputs": [
    {
     "data": {
      "text/plain": [
       "['one', 'two', 'three', 'four', 'five', 'six', 'seven', 'eight']"
      ]
     },
     "execution_count": 53,
     "metadata": {},
     "output_type": "execute_result"
    }
   ],
   "source": [
    "mylist"
   ]
  },
  {
   "cell_type": "code",
   "execution_count": 54,
   "id": "3962696b",
   "metadata": {},
   "outputs": [
    {
     "name": "stdout",
     "output_type": "stream",
     "text": [
      "['one', 'two', 'three', 'four', 'five', 'six', 'seven', 'eight', 'nine']\n"
     ]
    }
   ],
   "source": [
    "mylist.append('nine')\n",
    "print(mylist)"
   ]
  },
  {
   "cell_type": "code",
   "execution_count": 60,
   "id": "bc436a32",
   "metadata": {},
   "outputs": [],
   "source": [
    "mylist.insert(9,'ten')"
   ]
  },
  {
   "cell_type": "code",
   "execution_count": 61,
   "id": "fc5386c3",
   "metadata": {},
   "outputs": [
    {
     "data": {
      "text/plain": [
       "['one',\n",
       " 'two',\n",
       " 'three',\n",
       " 'four',\n",
       " 'five',\n",
       " 'six',\n",
       " 'seven',\n",
       " 'eight',\n",
       " 'nine',\n",
       " 'ten',\n",
       " 'ten']"
      ]
     },
     "execution_count": 61,
     "metadata": {},
     "output_type": "execute_result"
    }
   ],
   "source": [
    "mylist"
   ]
  },
  {
   "cell_type": "code",
   "execution_count": 63,
   "id": "bf6730ad",
   "metadata": {},
   "outputs": [],
   "source": [
    "mylist.remove('ten')"
   ]
  },
  {
   "cell_type": "code",
   "execution_count": 64,
   "id": "9dbd7ba8",
   "metadata": {},
   "outputs": [
    {
     "data": {
      "text/plain": [
       "['one', 'two', 'three', 'four', 'five', 'six', 'seven', 'eight', 'nine', 'ten']"
      ]
     },
     "execution_count": 64,
     "metadata": {},
     "output_type": "execute_result"
    }
   ],
   "source": [
    "mylist"
   ]
  },
  {
   "cell_type": "code",
   "execution_count": 65,
   "id": "66834b59",
   "metadata": {},
   "outputs": [],
   "source": [
    "mylist.insert(5,'fifty')"
   ]
  },
  {
   "cell_type": "code",
   "execution_count": 66,
   "id": "88268819",
   "metadata": {},
   "outputs": [
    {
     "data": {
      "text/plain": [
       "['one',\n",
       " 'two',\n",
       " 'three',\n",
       " 'four',\n",
       " 'five',\n",
       " 'fifty',\n",
       " 'six',\n",
       " 'seven',\n",
       " 'eight',\n",
       " 'nine',\n",
       " 'ten']"
      ]
     },
     "execution_count": 66,
     "metadata": {},
     "output_type": "execute_result"
    }
   ],
   "source": [
    "mylist"
   ]
  },
  {
   "cell_type": "code",
   "execution_count": 69,
   "id": "fba6f1ba",
   "metadata": {},
   "outputs": [
    {
     "data": {
      "text/plain": [
       "['one', 'three', 'five', 'six', 'eight']"
      ]
     },
     "execution_count": 69,
     "metadata": {},
     "output_type": "execute_result"
    }
   ],
   "source": [
    "mylist[0:9:2]"
   ]
  },
  {
   "cell_type": "code",
   "execution_count": 70,
   "id": "6ebc733b",
   "metadata": {},
   "outputs": [
    {
     "data": {
      "text/plain": [
       "['ten',\n",
       " 'nine',\n",
       " 'eight',\n",
       " 'seven',\n",
       " 'six',\n",
       " 'fifty',\n",
       " 'five',\n",
       " 'four',\n",
       " 'three',\n",
       " 'two',\n",
       " 'one']"
      ]
     },
     "execution_count": 70,
     "metadata": {},
     "output_type": "execute_result"
    }
   ],
   "source": [
    "mylist[::-1]"
   ]
  },
  {
   "cell_type": "code",
   "execution_count": 71,
   "id": "f70df385",
   "metadata": {},
   "outputs": [
    {
     "data": {
      "text/plain": [
       "['one',\n",
       " 'two',\n",
       " 'three',\n",
       " 'four',\n",
       " 'five',\n",
       " 'fifty',\n",
       " 'six',\n",
       " 'seven',\n",
       " 'eight',\n",
       " 'nine',\n",
       " 'ten']"
      ]
     },
     "execution_count": 71,
     "metadata": {},
     "output_type": "execute_result"
    }
   ],
   "source": [
    "mylist[:]"
   ]
  },
  {
   "cell_type": "code",
   "execution_count": 72,
   "id": "699787a7",
   "metadata": {},
   "outputs": [
    {
     "data": {
      "text/plain": [
       "['one',\n",
       " 'two',\n",
       " 'three',\n",
       " 'four',\n",
       " 'five',\n",
       " 'fifty',\n",
       " 'six',\n",
       " 'seven',\n",
       " 'eight',\n",
       " 'nine',\n",
       " 'ten',\n",
       " 'nine']"
      ]
     },
     "execution_count": 72,
     "metadata": {},
     "output_type": "execute_result"
    }
   ],
   "source": [
    "mylist.append('nine')\n",
    "mylist"
   ]
  },
  {
   "cell_type": "code",
   "execution_count": 73,
   "id": "bea408b1",
   "metadata": {},
   "outputs": [],
   "source": [
    "mylist.insert(9,'ten')"
   ]
  },
  {
   "cell_type": "code",
   "execution_count": 74,
   "id": "cfef5c6b",
   "metadata": {},
   "outputs": [
    {
     "data": {
      "text/plain": [
       "['one',\n",
       " 'two',\n",
       " 'three',\n",
       " 'four',\n",
       " 'five',\n",
       " 'fifty',\n",
       " 'six',\n",
       " 'seven',\n",
       " 'eight',\n",
       " 'ten',\n",
       " 'nine',\n",
       " 'ten',\n",
       " 'nine']"
      ]
     },
     "execution_count": 74,
     "metadata": {},
     "output_type": "execute_result"
    }
   ],
   "source": [
    "mylist"
   ]
  },
  {
   "cell_type": "code",
   "execution_count": 75,
   "id": "2802884b",
   "metadata": {},
   "outputs": [
    {
     "data": {
      "text/plain": [
       "13"
      ]
     },
     "execution_count": 75,
     "metadata": {},
     "output_type": "execute_result"
    }
   ],
   "source": [
    "len(mylist)"
   ]
  },
  {
   "cell_type": "code",
   "execution_count": 76,
   "id": "82f8d25d",
   "metadata": {},
   "outputs": [],
   "source": [
    "mylist.insert(1,'ONE')"
   ]
  },
  {
   "cell_type": "code",
   "execution_count": 77,
   "id": "72ade82d",
   "metadata": {},
   "outputs": [
    {
     "data": {
      "text/plain": [
       "['one',\n",
       " 'ONE',\n",
       " 'two',\n",
       " 'three',\n",
       " 'four',\n",
       " 'five',\n",
       " 'fifty',\n",
       " 'six',\n",
       " 'seven',\n",
       " 'eight',\n",
       " 'ten',\n",
       " 'nine',\n",
       " 'ten',\n",
       " 'nine']"
      ]
     },
     "execution_count": 77,
     "metadata": {},
     "output_type": "execute_result"
    }
   ],
   "source": [
    "mylist"
   ]
  },
  {
   "cell_type": "code",
   "execution_count": 79,
   "id": "fdb54d2c",
   "metadata": {},
   "outputs": [],
   "source": [
    "mylist.remove('ONE')"
   ]
  },
  {
   "cell_type": "code",
   "execution_count": 80,
   "id": "24c48a2b",
   "metadata": {},
   "outputs": [
    {
     "data": {
      "text/plain": [
       "['one',\n",
       " 'two',\n",
       " 'three',\n",
       " 'four',\n",
       " 'five',\n",
       " 'fifty',\n",
       " 'six',\n",
       " 'seven',\n",
       " 'eight',\n",
       " 'ten',\n",
       " 'nine',\n",
       " 'ten',\n",
       " 'nine']"
      ]
     },
     "execution_count": 80,
     "metadata": {},
     "output_type": "execute_result"
    }
   ],
   "source": [
    "mylist"
   ]
  },
  {
   "cell_type": "code",
   "execution_count": 81,
   "id": "0d76f1c5",
   "metadata": {},
   "outputs": [
    {
     "data": {
      "text/plain": [
       "'nine'"
      ]
     },
     "execution_count": 81,
     "metadata": {},
     "output_type": "execute_result"
    }
   ],
   "source": [
    "mylist.pop()"
   ]
  },
  {
   "cell_type": "code",
   "execution_count": 82,
   "id": "e57f7949",
   "metadata": {},
   "outputs": [
    {
     "data": {
      "text/plain": [
       "['one',\n",
       " 'two',\n",
       " 'three',\n",
       " 'four',\n",
       " 'five',\n",
       " 'fifty',\n",
       " 'six',\n",
       " 'seven',\n",
       " 'eight',\n",
       " 'ten',\n",
       " 'nine',\n",
       " 'ten']"
      ]
     },
     "execution_count": 82,
     "metadata": {},
     "output_type": "execute_result"
    }
   ],
   "source": [
    "mylist"
   ]
  },
  {
   "cell_type": "code",
   "execution_count": 83,
   "id": "1689aee0",
   "metadata": {},
   "outputs": [
    {
     "data": {
      "text/plain": [
       "'eight'"
      ]
     },
     "execution_count": 83,
     "metadata": {},
     "output_type": "execute_result"
    }
   ],
   "source": [
    "mylist.pop(8)"
   ]
  },
  {
   "cell_type": "code",
   "execution_count": 84,
   "id": "2cc9bd13",
   "metadata": {},
   "outputs": [
    {
     "data": {
      "text/plain": [
       "['one',\n",
       " 'two',\n",
       " 'three',\n",
       " 'four',\n",
       " 'five',\n",
       " 'fifty',\n",
       " 'six',\n",
       " 'seven',\n",
       " 'ten',\n",
       " 'nine',\n",
       " 'ten']"
      ]
     },
     "execution_count": 84,
     "metadata": {},
     "output_type": "execute_result"
    }
   ],
   "source": [
    "mylist"
   ]
  },
  {
   "cell_type": "code",
   "execution_count": 85,
   "id": "d73fbd38",
   "metadata": {},
   "outputs": [
    {
     "data": {
      "text/plain": [
       "'two'"
      ]
     },
     "execution_count": 85,
     "metadata": {},
     "output_type": "execute_result"
    }
   ],
   "source": [
    "mylist.pop(1)"
   ]
  },
  {
   "cell_type": "code",
   "execution_count": 86,
   "id": "f90b6c7b",
   "metadata": {},
   "outputs": [
    {
     "name": "stdout",
     "output_type": "stream",
     "text": [
      "['one', 'three', 'four', 'five', 'fifty', 'six', 'seven', 'ten', 'nine', 'ten']\n"
     ]
    }
   ],
   "source": [
    "print(mylist)"
   ]
  },
  {
   "cell_type": "code",
   "execution_count": 87,
   "id": "2f158202",
   "metadata": {},
   "outputs": [],
   "source": [
    "mylist.insert(1,'two')"
   ]
  },
  {
   "cell_type": "code",
   "execution_count": 88,
   "id": "d42d95ad",
   "metadata": {},
   "outputs": [
    {
     "data": {
      "text/plain": [
       "['one',\n",
       " 'two',\n",
       " 'three',\n",
       " 'four',\n",
       " 'five',\n",
       " 'fifty',\n",
       " 'six',\n",
       " 'seven',\n",
       " 'ten',\n",
       " 'nine',\n",
       " 'ten']"
      ]
     },
     "execution_count": 88,
     "metadata": {},
     "output_type": "execute_result"
    }
   ],
   "source": [
    "mylist"
   ]
  },
  {
   "cell_type": "code",
   "execution_count": 89,
   "id": "be3b3fa9",
   "metadata": {},
   "outputs": [],
   "source": [
    "mylist.remove('fifty')"
   ]
  },
  {
   "cell_type": "code",
   "execution_count": 90,
   "id": "4c4b136f",
   "metadata": {},
   "outputs": [],
   "source": [
    "mylist.insert(7,'eight')"
   ]
  },
  {
   "cell_type": "code",
   "execution_count": 91,
   "id": "69a00db1",
   "metadata": {},
   "outputs": [
    {
     "data": {
      "text/plain": [
       "['one',\n",
       " 'two',\n",
       " 'three',\n",
       " 'four',\n",
       " 'five',\n",
       " 'six',\n",
       " 'seven',\n",
       " 'eight',\n",
       " 'ten',\n",
       " 'nine',\n",
       " 'ten']"
      ]
     },
     "execution_count": 91,
     "metadata": {},
     "output_type": "execute_result"
    }
   ],
   "source": [
    "mylist"
   ]
  },
  {
   "cell_type": "code",
   "execution_count": 94,
   "id": "0401ab21",
   "metadata": {},
   "outputs": [],
   "source": [
    "del mylist[8]"
   ]
  },
  {
   "cell_type": "code",
   "execution_count": 95,
   "id": "7e45f5c9",
   "metadata": {},
   "outputs": [
    {
     "data": {
      "text/plain": [
       "['one', 'two', 'three', 'four', 'five', 'six', 'seven', 'eight', 'nine', 'ten']"
      ]
     },
     "execution_count": 95,
     "metadata": {},
     "output_type": "execute_result"
    }
   ],
   "source": [
    "mylist"
   ]
  },
  {
   "cell_type": "code",
   "execution_count": 96,
   "id": "392c17fe",
   "metadata": {},
   "outputs": [],
   "source": [
    "mylist[0] = 1\n",
    "mylist[1] = 2\n",
    "mylist[2] = 3"
   ]
  },
  {
   "cell_type": "code",
   "execution_count": 97,
   "id": "585aec6e",
   "metadata": {},
   "outputs": [
    {
     "data": {
      "text/plain": [
       "[1, 2, 3, 'four', 'five', 'six', 'seven', 'eight', 'nine', 'ten']"
      ]
     },
     "execution_count": 97,
     "metadata": {},
     "output_type": "execute_result"
    }
   ],
   "source": [
    "mylist"
   ]
  },
  {
   "cell_type": "code",
   "execution_count": 98,
   "id": "057440b9",
   "metadata": {},
   "outputs": [
    {
     "data": {
      "text/plain": [
       "[]"
      ]
     },
     "execution_count": 98,
     "metadata": {},
     "output_type": "execute_result"
    }
   ],
   "source": [
    "mylist.clear()\n",
    "mylist"
   ]
  },
  {
   "cell_type": "code",
   "execution_count": 99,
   "id": "9ca89d24",
   "metadata": {},
   "outputs": [
    {
     "ename": "NameError",
     "evalue": "name 'mylist' is not defined",
     "output_type": "error",
     "traceback": [
      "\u001b[1;31m---------------------------------------------------------------------------\u001b[0m",
      "\u001b[1;31mNameError\u001b[0m                                 Traceback (most recent call last)",
      "Cell \u001b[1;32mIn[99], line 2\u001b[0m\n\u001b[0;32m      1\u001b[0m \u001b[38;5;28;01mdel\u001b[39;00m mylist\n\u001b[1;32m----> 2\u001b[0m mylist\n",
      "\u001b[1;31mNameError\u001b[0m: name 'mylist' is not defined"
     ]
    }
   ],
   "source": [
    "del mylist\n",
    "mylist"
   ]
  },
  {
   "cell_type": "code",
   "execution_count": 100,
   "id": "ee0d7bd5",
   "metadata": {},
   "outputs": [],
   "source": [
    "mylist = ['one', 'two','three','four','five','six','seven', 'eight','nine']"
   ]
  },
  {
   "cell_type": "code",
   "execution_count": 101,
   "id": "bbcf3ceb",
   "metadata": {},
   "outputs": [],
   "source": [
    "mylist1 = mylist"
   ]
  },
  {
   "cell_type": "code",
   "execution_count": 102,
   "id": "d60af0fc",
   "metadata": {},
   "outputs": [
    {
     "name": "stdout",
     "output_type": "stream",
     "text": [
      "['one', 'two', 'three', 'four', 'five', 'six', 'seven', 'eight', 'nine']\n",
      "['one', 'two', 'three', 'four', 'five', 'six', 'seven', 'eight', 'nine']\n"
     ]
    }
   ],
   "source": [
    "print(mylist)\n",
    "print(mylist1)"
   ]
  },
  {
   "cell_type": "code",
   "execution_count": 103,
   "id": "1c280a6a",
   "metadata": {},
   "outputs": [
    {
     "data": {
      "text/plain": [
       "(2034037971776, 2034037971776)"
      ]
     },
     "execution_count": 103,
     "metadata": {},
     "output_type": "execute_result"
    }
   ],
   "source": [
    "id(mylist), id(mylist1)"
   ]
  },
  {
   "cell_type": "code",
   "execution_count": 104,
   "id": "f6f4c587",
   "metadata": {},
   "outputs": [
    {
     "data": {
      "text/plain": [
       "['one', 'two', 'three', 'four', 'five', 'six', 'seven', 'eight', 'nine']"
      ]
     },
     "execution_count": 104,
     "metadata": {},
     "output_type": "execute_result"
    }
   ],
   "source": [
    "mylist2 = mylist.copy()\n",
    "mylist2"
   ]
  },
  {
   "cell_type": "code",
   "execution_count": 105,
   "id": "3da3097d",
   "metadata": {},
   "outputs": [
    {
     "data": {
      "text/plain": [
       "2034038019328"
      ]
     },
     "execution_count": 105,
     "metadata": {},
     "output_type": "execute_result"
    }
   ],
   "source": [
    "id(mylist2)"
   ]
  },
  {
   "cell_type": "code",
   "execution_count": 106,
   "id": "63354ba4",
   "metadata": {},
   "outputs": [
    {
     "data": {
      "text/plain": [
       "['one', 'two', 'three', 'four', 'five', 'six', 'seven', 'eight', 'nine']"
      ]
     },
     "execution_count": 106,
     "metadata": {},
     "output_type": "execute_result"
    }
   ],
   "source": [
    "mylist"
   ]
  },
  {
   "cell_type": "code",
   "execution_count": 107,
   "id": "a23db042",
   "metadata": {},
   "outputs": [],
   "source": [
    "mylist[0] = 1"
   ]
  },
  {
   "cell_type": "code",
   "execution_count": 108,
   "id": "eed8b051",
   "metadata": {},
   "outputs": [
    {
     "data": {
      "text/plain": [
       "[1, 'two', 'three', 'four', 'five', 'six', 'seven', 'eight', 'nine']"
      ]
     },
     "execution_count": 108,
     "metadata": {},
     "output_type": "execute_result"
    }
   ],
   "source": [
    "mylist"
   ]
  },
  {
   "cell_type": "code",
   "execution_count": 109,
   "id": "8c7f0e72",
   "metadata": {},
   "outputs": [
    {
     "data": {
      "text/plain": [
       "['one', 'two', 'three', 'four', 'five', 'six', 'seven', 'eight', 'nine']"
      ]
     },
     "execution_count": 109,
     "metadata": {},
     "output_type": "execute_result"
    }
   ],
   "source": [
    "mylist2"
   ]
  },
  {
   "cell_type": "code",
   "execution_count": 110,
   "id": "cc741778",
   "metadata": {},
   "outputs": [],
   "source": [
    "list1 = ['one', 'two', 'three', 'four']\n",
    "list2 =['five', 'six','seven', 'eight']"
   ]
  },
  {
   "cell_type": "code",
   "execution_count": 111,
   "id": "4c010240",
   "metadata": {},
   "outputs": [
    {
     "data": {
      "text/plain": [
       "['one', 'two', 'three', 'four', 'five', 'six', 'seven', 'eight']"
      ]
     },
     "execution_count": 111,
     "metadata": {},
     "output_type": "execute_result"
    }
   ],
   "source": [
    "list3 = list1 + list2\n",
    "list3"
   ]
  },
  {
   "cell_type": "code",
   "execution_count": 112,
   "id": "2d4ece7b",
   "metadata": {},
   "outputs": [],
   "source": [
    "l1 = [1, 2, 3, 4]\n",
    "l2 = [5, 6, 7, 8]\n",
    "l1.extend(l2)"
   ]
  },
  {
   "cell_type": "code",
   "execution_count": 113,
   "id": "3338ce8a",
   "metadata": {},
   "outputs": [
    {
     "data": {
      "text/plain": [
       "[1, 2, 3, 4, 5, 6, 7, 8]"
      ]
     },
     "execution_count": 113,
     "metadata": {},
     "output_type": "execute_result"
    }
   ],
   "source": [
    "l1"
   ]
  },
  {
   "cell_type": "raw",
   "id": "323b5f0c",
   "metadata": {},
   "source": [
    "LIST MEMBERSHIP"
   ]
  },
  {
   "cell_type": "code",
   "execution_count": 115,
   "id": "bc6a7ba0",
   "metadata": {},
   "outputs": [
    {
     "data": {
      "text/plain": [
       "['one', 'two', 'three', 'four', 'five', 'six', 'seven', 'eight']"
      ]
     },
     "execution_count": 115,
     "metadata": {},
     "output_type": "execute_result"
    }
   ],
   "source": [
    "list3"
   ]
  },
  {
   "cell_type": "code",
   "execution_count": 116,
   "id": "cce63bc8",
   "metadata": {},
   "outputs": [
    {
     "data": {
      "text/plain": [
       "True"
      ]
     },
     "execution_count": 116,
     "metadata": {},
     "output_type": "execute_result"
    }
   ],
   "source": [
    "'one' in list1"
   ]
  },
  {
   "cell_type": "code",
   "execution_count": 119,
   "id": "7c7df340",
   "metadata": {},
   "outputs": [
    {
     "data": {
      "text/plain": [
       "True"
      ]
     },
     "execution_count": 119,
     "metadata": {},
     "output_type": "execute_result"
    }
   ],
   "source": [
    "'two' in list3"
   ]
  },
  {
   "cell_type": "code",
   "execution_count": 120,
   "id": "ddfb1f8c",
   "metadata": {},
   "outputs": [
    {
     "name": "stdout",
     "output_type": "stream",
     "text": [
      "Three is present in list\n"
     ]
    }
   ],
   "source": [
    "if 'three' in list1:\n",
    "    print('Three is present in list')\n",
    "else:\n",
    "    print('Three is not present in list')"
   ]
  },
  {
   "cell_type": "code",
   "execution_count": 121,
   "id": "a61ef37b",
   "metadata": {},
   "outputs": [
    {
     "name": "stdout",
     "output_type": "stream",
     "text": [
      "eleven is not present in the list\n"
     ]
    }
   ],
   "source": [
    "if 'eleven' in list1:\n",
    "    print('eleven is present in the list')\n",
    "else:\n",
    "    print('eleven is not present in the list')"
   ]
  },
  {
   "cell_type": "code",
   "execution_count": 130,
   "id": "cf6009a9",
   "metadata": {},
   "outputs": [],
   "source": [
    "l = [4,5,7,8,6,9]"
   ]
  },
  {
   "cell_type": "code",
   "execution_count": 131,
   "id": "93a77893",
   "metadata": {},
   "outputs": [],
   "source": [
    "l.reverse()"
   ]
  },
  {
   "cell_type": "code",
   "execution_count": 132,
   "id": "8cd45591",
   "metadata": {},
   "outputs": [
    {
     "data": {
      "text/plain": [
       "[9, 6, 8, 7, 5, 4]"
      ]
     },
     "execution_count": 132,
     "metadata": {},
     "output_type": "execute_result"
    }
   ],
   "source": [
    "l"
   ]
  },
  {
   "cell_type": "code",
   "execution_count": 133,
   "id": "371ed83a",
   "metadata": {},
   "outputs": [],
   "source": [
    "list5 = ['one', 'two', 'three', 'four', 'five', 'six']"
   ]
  },
  {
   "cell_type": "code",
   "execution_count": 134,
   "id": "dd53fd5f",
   "metadata": {},
   "outputs": [
    {
     "name": "stdout",
     "output_type": "stream",
     "text": [
      "['one', 'two', 'three', 'four', 'five', 'six']\n"
     ]
    }
   ],
   "source": [
    "print(list5)"
   ]
  },
  {
   "cell_type": "code",
   "execution_count": 135,
   "id": "f2c426c1",
   "metadata": {},
   "outputs": [],
   "source": [
    "list5.reverse()"
   ]
  },
  {
   "cell_type": "code",
   "execution_count": 136,
   "id": "9e44e2fb",
   "metadata": {},
   "outputs": [
    {
     "name": "stdout",
     "output_type": "stream",
     "text": [
      "['six', 'five', 'four', 'three', 'two', 'one']\n"
     ]
    }
   ],
   "source": [
    "print(list5)"
   ]
  },
  {
   "cell_type": "code",
   "execution_count": 137,
   "id": "16dcc821",
   "metadata": {},
   "outputs": [],
   "source": [
    "list6 = ['eight', 'nine', 'ten']"
   ]
  },
  {
   "cell_type": "code",
   "execution_count": 138,
   "id": "03f97e2c",
   "metadata": {},
   "outputs": [],
   "source": [
    "list5.extend(list6)"
   ]
  },
  {
   "cell_type": "code",
   "execution_count": 139,
   "id": "5764349e",
   "metadata": {},
   "outputs": [
    {
     "name": "stdout",
     "output_type": "stream",
     "text": [
      "['six', 'five', 'four', 'three', 'two', 'one', 'eight', 'nine', 'ten']\n"
     ]
    }
   ],
   "source": [
    "print(list5)"
   ]
  },
  {
   "cell_type": "code",
   "execution_count": 140,
   "id": "59f172df",
   "metadata": {},
   "outputs": [
    {
     "data": {
      "text/plain": [
       "['eight', 'five', 'four', 'nine', 'one', 'six', 'ten', 'three', 'two']"
      ]
     },
     "execution_count": 140,
     "metadata": {},
     "output_type": "execute_result"
    }
   ],
   "source": [
    "list5.sort()\n",
    "list5"
   ]
  },
  {
   "cell_type": "code",
   "execution_count": 141,
   "id": "a87e2451",
   "metadata": {},
   "outputs": [],
   "source": [
    "list7 = [1,3,7,5,2,4,6]"
   ]
  },
  {
   "cell_type": "code",
   "execution_count": 142,
   "id": "3f353b11",
   "metadata": {},
   "outputs": [],
   "source": [
    "list7.sort() #sort the list in ascending order"
   ]
  },
  {
   "cell_type": "code",
   "execution_count": 143,
   "id": "57e06acf",
   "metadata": {},
   "outputs": [
    {
     "data": {
      "text/plain": [
       "[1, 2, 3, 4, 5, 6, 7]"
      ]
     },
     "execution_count": 143,
     "metadata": {},
     "output_type": "execute_result"
    }
   ],
   "source": [
    "list7"
   ]
  },
  {
   "cell_type": "code",
   "execution_count": 144,
   "id": "705e9ad7",
   "metadata": {},
   "outputs": [],
   "source": [
    "my_name = ['b', 'h', 'a', 'r', 'a','t']"
   ]
  },
  {
   "cell_type": "code",
   "execution_count": 146,
   "id": "11034e93",
   "metadata": {},
   "outputs": [
    {
     "name": "stdout",
     "output_type": "stream",
     "text": [
      "b\n",
      "h\n",
      "a\n",
      "r\n",
      "a\n",
      "t\n"
     ]
    }
   ],
   "source": [
    "for i in my_name:\n",
    "    print(i)"
   ]
  },
  {
   "cell_type": "code",
   "execution_count": 147,
   "id": "d4418a27",
   "metadata": {},
   "outputs": [
    {
     "data": {
      "text/plain": [
       "[1, 2, 3, 4, 5, 6, 7]"
      ]
     },
     "execution_count": 147,
     "metadata": {},
     "output_type": "execute_result"
    }
   ],
   "source": [
    "list7"
   ]
  },
  {
   "cell_type": "code",
   "execution_count": 148,
   "id": "18b39a0f",
   "metadata": {},
   "outputs": [],
   "source": [
    "list7.sort(reverse = True)"
   ]
  },
  {
   "cell_type": "code",
   "execution_count": 149,
   "id": "e95e73d2",
   "metadata": {},
   "outputs": [
    {
     "name": "stdout",
     "output_type": "stream",
     "text": [
      "[7, 6, 5, 4, 3, 2, 1]\n"
     ]
    }
   ],
   "source": [
    "print(list7) #sorting of list in decending order"
   ]
  },
  {
   "cell_type": "code",
   "execution_count": 150,
   "id": "1ffa7752",
   "metadata": {},
   "outputs": [],
   "source": [
    "list8 = [64, 38, 81, 93, 90, 34]"
   ]
  },
  {
   "cell_type": "code",
   "execution_count": 151,
   "id": "82d8745e",
   "metadata": {},
   "outputs": [
    {
     "data": {
      "text/plain": [
       "[34, 38, 64, 81, 90, 93]"
      ]
     },
     "execution_count": 151,
     "metadata": {},
     "output_type": "execute_result"
    }
   ],
   "source": [
    "sorted(list8)"
   ]
  },
  {
   "cell_type": "code",
   "execution_count": 152,
   "id": "0b052104",
   "metadata": {},
   "outputs": [],
   "source": [
    "list9 = ['bharat','kesav', 'harsha','vardhan', 'Naradasu']"
   ]
  },
  {
   "cell_type": "code",
   "execution_count": 153,
   "id": "23c243d2",
   "metadata": {},
   "outputs": [
    {
     "name": "stdout",
     "output_type": "stream",
     "text": [
      "bharat\n",
      "kesav\n",
      "harsha\n",
      "vardhan\n",
      "Naradasu\n"
     ]
    }
   ],
   "source": [
    "for i in list9:\n",
    "    print(i)"
   ]
  },
  {
   "cell_type": "code",
   "execution_count": 154,
   "id": "b282375b",
   "metadata": {},
   "outputs": [
    {
     "data": {
      "text/plain": [
       "1"
      ]
     },
     "execution_count": 154,
     "metadata": {},
     "output_type": "execute_result"
    }
   ],
   "source": [
    "list7.count(5)"
   ]
  },
  {
   "cell_type": "code",
   "execution_count": 155,
   "id": "712a7884",
   "metadata": {},
   "outputs": [
    {
     "data": {
      "text/plain": [
       "0"
      ]
     },
     "execution_count": 155,
     "metadata": {},
     "output_type": "execute_result"
    }
   ],
   "source": [
    "list8.count(74)"
   ]
  },
  {
   "cell_type": "code",
   "execution_count": 156,
   "id": "dde5af1a",
   "metadata": {},
   "outputs": [
    {
     "data": {
      "text/plain": [
       "1"
      ]
     },
     "execution_count": 156,
     "metadata": {},
     "output_type": "execute_result"
    }
   ],
   "source": [
    "list8.count(34)"
   ]
  },
  {
   "cell_type": "code",
   "execution_count": 157,
   "id": "ad3e1aef",
   "metadata": {},
   "outputs": [
    {
     "data": {
      "text/plain": [
       "True"
      ]
     },
     "execution_count": 157,
     "metadata": {},
     "output_type": "execute_result"
    }
   ],
   "source": [
    "all(list8)"
   ]
  },
  {
   "cell_type": "code",
   "execution_count": 158,
   "id": "f9e3c6ce",
   "metadata": {},
   "outputs": [],
   "source": [
    "L1 = [1,2,3,0,5,7]"
   ]
  },
  {
   "cell_type": "code",
   "execution_count": 159,
   "id": "c3a5d67f",
   "metadata": {},
   "outputs": [],
   "source": [
    "L1.sort()"
   ]
  },
  {
   "cell_type": "code",
   "execution_count": 160,
   "id": "f640fe5b",
   "metadata": {},
   "outputs": [
    {
     "data": {
      "text/plain": [
       "[0, 1, 2, 3, 5, 7]"
      ]
     },
     "execution_count": 160,
     "metadata": {},
     "output_type": "execute_result"
    }
   ],
   "source": [
    "L1"
   ]
  },
  {
   "cell_type": "code",
   "execution_count": 161,
   "id": "6b79af3f",
   "metadata": {},
   "outputs": [
    {
     "data": {
      "text/plain": [
       "False"
      ]
     },
     "execution_count": 161,
     "metadata": {},
     "output_type": "execute_result"
    }
   ],
   "source": [
    "all(L1) #false value like(0, False)"
   ]
  },
  {
   "cell_type": "code",
   "execution_count": 162,
   "id": "6cd394e3",
   "metadata": {},
   "outputs": [
    {
     "data": {
      "text/plain": [
       "True"
      ]
     },
     "execution_count": 162,
     "metadata": {},
     "output_type": "execute_result"
    }
   ],
   "source": [
    "any(L1) #True value (except (0, False))"
   ]
  },
  {
   "cell_type": "code",
   "execution_count": 163,
   "id": "4727b739",
   "metadata": {},
   "outputs": [
    {
     "data": {
      "text/plain": [
       "[0, 1, 2, 3, 5, 7]"
      ]
     },
     "execution_count": 163,
     "metadata": {},
     "output_type": "execute_result"
    }
   ],
   "source": [
    "L1"
   ]
  },
  {
   "cell_type": "code",
   "execution_count": 164,
   "id": "cce42557",
   "metadata": {},
   "outputs": [],
   "source": [
    "L2 = [1, 30,45,54]"
   ]
  },
  {
   "cell_type": "code",
   "execution_count": 166,
   "id": "b2bf2276",
   "metadata": {},
   "outputs": [
    {
     "data": {
      "text/plain": [
       "True"
      ]
     },
     "execution_count": 166,
     "metadata": {},
     "output_type": "execute_result"
    }
   ],
   "source": [
    "all(L2)"
   ]
  },
  {
   "cell_type": "code",
   "execution_count": 167,
   "id": "bdfa026f",
   "metadata": {},
   "outputs": [
    {
     "data": {
      "text/plain": [
       "True"
      ]
     },
     "execution_count": 167,
     "metadata": {},
     "output_type": "execute_result"
    }
   ],
   "source": [
    "any(L2)"
   ]
  },
  {
   "cell_type": "code",
   "execution_count": 168,
   "id": "c4f46ec5",
   "metadata": {},
   "outputs": [],
   "source": [
    "L3 = ['', '']"
   ]
  },
  {
   "cell_type": "code",
   "execution_count": 169,
   "id": "37ce1318",
   "metadata": {},
   "outputs": [
    {
     "data": {
      "text/plain": [
       "False"
      ]
     },
     "execution_count": 169,
     "metadata": {},
     "output_type": "execute_result"
    }
   ],
   "source": [
    "any(L3)"
   ]
  },
  {
   "cell_type": "code",
   "execution_count": 170,
   "id": "7b115ef8",
   "metadata": {},
   "outputs": [
    {
     "data": {
      "text/plain": [
       "False"
      ]
     },
     "execution_count": 170,
     "metadata": {},
     "output_type": "execute_result"
    }
   ],
   "source": [
    "all(L3)"
   ]
  },
  {
   "cell_type": "code",
   "execution_count": 171,
   "id": "7a6a3d22",
   "metadata": {},
   "outputs": [
    {
     "data": {
      "text/plain": [
       "[1, 30, 45, 54]"
      ]
     },
     "execution_count": 171,
     "metadata": {},
     "output_type": "execute_result"
    }
   ],
   "source": [
    "L2"
   ]
  },
  {
   "cell_type": "code",
   "execution_count": 172,
   "id": "674a02c6",
   "metadata": {},
   "outputs": [],
   "source": [
    "L2.clear()"
   ]
  },
  {
   "cell_type": "code",
   "execution_count": 173,
   "id": "3fc36339",
   "metadata": {},
   "outputs": [
    {
     "data": {
      "text/plain": [
       "[]"
      ]
     },
     "execution_count": 173,
     "metadata": {},
     "output_type": "execute_result"
    }
   ],
   "source": [
    "L2"
   ]
  },
  {
   "cell_type": "code",
   "execution_count": 175,
   "id": "49d9d0ba",
   "metadata": {},
   "outputs": [],
   "source": [
    "del L2"
   ]
  },
  {
   "cell_type": "code",
   "execution_count": 176,
   "id": "dcb97945",
   "metadata": {},
   "outputs": [
    {
     "ename": "NameError",
     "evalue": "name 'L2' is not defined",
     "output_type": "error",
     "traceback": [
      "\u001b[1;31m---------------------------------------------------------------------------\u001b[0m",
      "\u001b[1;31mNameError\u001b[0m                                 Traceback (most recent call last)",
      "Cell \u001b[1;32mIn[176], line 1\u001b[0m\n\u001b[1;32m----> 1\u001b[0m L2\n",
      "\u001b[1;31mNameError\u001b[0m: name 'L2' is not defined"
     ]
    }
   ],
   "source": [
    "L2"
   ]
  },
  {
   "cell_type": "code",
   "execution_count": 177,
   "id": "1d468190",
   "metadata": {},
   "outputs": [
    {
     "data": {
      "text/plain": [
       "['', '']"
      ]
     },
     "execution_count": 177,
     "metadata": {},
     "output_type": "execute_result"
    }
   ],
   "source": [
    "L3"
   ]
  },
  {
   "cell_type": "code",
   "execution_count": 178,
   "id": "2995464c",
   "metadata": {},
   "outputs": [],
   "source": [
    "L3.clear()"
   ]
  },
  {
   "cell_type": "code",
   "execution_count": 179,
   "id": "df092061",
   "metadata": {},
   "outputs": [
    {
     "data": {
      "text/plain": [
       "[]"
      ]
     },
     "execution_count": 179,
     "metadata": {},
     "output_type": "execute_result"
    }
   ],
   "source": [
    "L3"
   ]
  },
  {
   "cell_type": "code",
   "execution_count": 180,
   "id": "3e4532cf",
   "metadata": {},
   "outputs": [],
   "source": [
    "del L3"
   ]
  },
  {
   "cell_type": "code",
   "execution_count": 181,
   "id": "3e263b65",
   "metadata": {},
   "outputs": [
    {
     "data": {
      "text/plain": [
       "['b', 'h', 'a', 'r', 'a', 't']"
      ]
     },
     "execution_count": 181,
     "metadata": {},
     "output_type": "execute_result"
    }
   ],
   "source": [
    "my_name"
   ]
  },
  {
   "cell_type": "code",
   "execution_count": 182,
   "id": "2b3724c3",
   "metadata": {},
   "outputs": [],
   "source": [
    "my_name.sort()"
   ]
  },
  {
   "cell_type": "code",
   "execution_count": 183,
   "id": "8a87d1dd",
   "metadata": {},
   "outputs": [
    {
     "data": {
      "text/plain": [
       "['a', 'a', 'b', 'h', 'r', 't']"
      ]
     },
     "execution_count": 183,
     "metadata": {},
     "output_type": "execute_result"
    }
   ],
   "source": [
    "my_name"
   ]
  },
  {
   "cell_type": "code",
   "execution_count": 185,
   "id": "fbb67c3c",
   "metadata": {},
   "outputs": [],
   "source": [
    "my_name.remove('a')"
   ]
  },
  {
   "cell_type": "code",
   "execution_count": null,
   "id": "682860e6",
   "metadata": {},
   "outputs": [],
   "source": []
  }
 ],
 "metadata": {
  "kernelspec": {
   "display_name": "Python 3 (ipykernel)",
   "language": "python",
   "name": "python3"
  },
  "language_info": {
   "codemirror_mode": {
    "name": "ipython",
    "version": 3
   },
   "file_extension": ".py",
   "mimetype": "text/x-python",
   "name": "python",
   "nbconvert_exporter": "python",
   "pygments_lexer": "ipython3",
   "version": "3.11.4"
  }
 },
 "nbformat": 4,
 "nbformat_minor": 5
}
