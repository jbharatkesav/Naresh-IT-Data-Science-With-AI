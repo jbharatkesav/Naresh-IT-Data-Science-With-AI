{
  "nbformat": 4,
  "nbformat_minor": 0,
  "metadata": {
    "colab": {
      "provenance": []
    },
    "kernelspec": {
      "name": "python3",
      "display_name": "Python 3"
    },
    "language_info": {
      "name": "python"
    }
  },
  "cells": [
    {
      "cell_type": "code",
      "execution_count": 1,
      "metadata": {
        "colab": {
          "base_uri": "https://localhost:8080/"
        },
        "id": "wIe4Gk4uKkab",
        "outputId": "e54b271b-8887-4fa9-8935-ad84a51418d0"
      },
      "outputs": [
        {
          "output_type": "stream",
          "name": "stdout",
          "text": [
            "5\n",
            "57\n",
            "557\n"
          ]
        }
      ],
      "source": [
        "x = input()\n",
        "y = input()\n",
        "z = x + y\n",
        "print(z)"
      ]
    },
    {
      "cell_type": "code",
      "source": [
        "x1 = input('Enter the 1st number')\n",
        "y1 = input('Enter the 2nd number')\n",
        "z1 = int(x1) + int(y1)\n",
        "print(z1)"
      ],
      "metadata": {
        "colab": {
          "base_uri": "https://localhost:8080/"
        },
        "id": "xL1QD58lK1eQ",
        "outputId": "57fc8016-a79b-49f9-8ec8-b950c05c2c2f"
      },
      "execution_count": 2,
      "outputs": [
        {
          "output_type": "stream",
          "name": "stdout",
          "text": [
            "Enter the 1st number87\n",
            "Enter the 2nd number57\n",
            "144\n"
          ]
        }
      ]
    },
    {
      "cell_type": "code",
      "source": [
        "x2 = int(input('Enter the 1st number'))\n",
        "y2 = int(input('Enter the 2nd number'))\n",
        "z2 = x2 + y2\n",
        "print(z2)"
      ],
      "metadata": {
        "colab": {
          "base_uri": "https://localhost:8080/"
        },
        "id": "eIPpgi1HLEuI",
        "outputId": "016f95ee-c6cc-453d-c810-550ac746137e"
      },
      "execution_count": 3,
      "outputs": [
        {
          "output_type": "stream",
          "name": "stdout",
          "text": [
            "Enter the 1st number652\n",
            "Enter the 2nd number47\n",
            "699\n"
          ]
        }
      ]
    },
    {
      "cell_type": "code",
      "source": [
        "ch = input('enter a char')\n",
        "print(ch)"
      ],
      "metadata": {
        "colab": {
          "base_uri": "https://localhost:8080/"
        },
        "id": "bpFZFsBSLE3N",
        "outputId": "f7c2d506-d6f8-4732-b9b5-0b8f61db08da"
      },
      "execution_count": 4,
      "outputs": [
        {
          "output_type": "stream",
          "name": "stdout",
          "text": [
            "enter a charBharat\n",
            "Bharat\n"
          ]
        }
      ]
    },
    {
      "cell_type": "code",
      "source": [
        "print(ch[0])"
      ],
      "metadata": {
        "colab": {
          "base_uri": "https://localhost:8080/"
        },
        "id": "D9cd0P-OLE_N",
        "outputId": "33c8ce94-ea73-4aba-c33b-0addc1e468f7"
      },
      "execution_count": 5,
      "outputs": [
        {
          "output_type": "stream",
          "name": "stdout",
          "text": [
            "B\n"
          ]
        }
      ]
    },
    {
      "cell_type": "code",
      "source": [
        "print(ch[5])"
      ],
      "metadata": {
        "colab": {
          "base_uri": "https://localhost:8080/"
        },
        "id": "-4_aEOBwLFCU",
        "outputId": "29a5365d-a226-47e7-8ba6-255c33b0808f"
      },
      "execution_count": 7,
      "outputs": [
        {
          "output_type": "stream",
          "name": "stdout",
          "text": [
            "t\n"
          ]
        }
      ]
    },
    {
      "cell_type": "code",
      "source": [
        "print(len(ch))"
      ],
      "metadata": {
        "colab": {
          "base_uri": "https://localhost:8080/"
        },
        "id": "Hcgg4JmDLnLP",
        "outputId": "ee404891-bb92-42f3-f538-4ca8fa0d08d4"
      },
      "execution_count": 8,
      "outputs": [
        {
          "output_type": "stream",
          "name": "stdout",
          "text": [
            "6\n"
          ]
        }
      ]
    },
    {
      "cell_type": "code",
      "source": [
        "print(ch[-1])"
      ],
      "metadata": {
        "colab": {
          "base_uri": "https://localhost:8080/"
        },
        "id": "3CdieBBFLnTd",
        "outputId": "0f4a1f89-fdf8-4489-8779-c1794d51c4ba"
      },
      "execution_count": 10,
      "outputs": [
        {
          "output_type": "stream",
          "name": "stdout",
          "text": [
            "t\n"
          ]
        }
      ]
    },
    {
      "cell_type": "code",
      "source": [
        "ch = input('enter a char')[1:3]\n",
        "print(ch)"
      ],
      "metadata": {
        "colab": {
          "base_uri": "https://localhost:8080/"
        },
        "id": "4EK87IDjL3KM",
        "outputId": "520ccfe6-3fcd-469a-fab1-7b1ffc57a6fd"
      },
      "execution_count": 11,
      "outputs": [
        {
          "output_type": "stream",
          "name": "stdout",
          "text": [
            "enter a charKesav\n",
            "es\n"
          ]
        }
      ]
    },
    {
      "cell_type": "markdown",
      "source": [
        "Eval function"
      ],
      "metadata": {
        "id": "cCrIy0LrMM7W"
      }
    },
    {
      "cell_type": "code",
      "source": [
        "y3 = eval(input('Enter an exp'))\n",
        "y3"
      ],
      "metadata": {
        "colab": {
          "base_uri": "https://localhost:8080/"
        },
        "id": "UQbcp15_MRG9",
        "outputId": "6d0e7b7f-3485-4a65-f432-60fe4f13c462"
      },
      "execution_count": 12,
      "outputs": [
        {
          "name": "stdout",
          "output_type": "stream",
          "text": [
            "Enter an exp4 *5+6+10*2\n"
          ]
        },
        {
          "output_type": "execute_result",
          "data": {
            "text/plain": [
              "46"
            ]
          },
          "metadata": {},
          "execution_count": 12
        }
      ]
    },
    {
      "cell_type": "code",
      "source": [
        "y4 = eval(input('Enter an expr  = '))\n",
        "y4"
      ],
      "metadata": {
        "colab": {
          "base_uri": "https://localhost:8080/"
        },
        "id": "TjF-xr_BL3Mp",
        "outputId": "3fd1acd8-117b-4302-f1c6-82de29c26d60"
      },
      "execution_count": 14,
      "outputs": [
        {
          "name": "stdout",
          "output_type": "stream",
          "text": [
            "Enter an expr  = 4 ^ 5 + 7+10 * 5\n"
          ]
        },
        {
          "output_type": "execute_result",
          "data": {
            "text/plain": [
              "58"
            ]
          },
          "metadata": {},
          "execution_count": 14
        }
      ]
    }
  ]
}